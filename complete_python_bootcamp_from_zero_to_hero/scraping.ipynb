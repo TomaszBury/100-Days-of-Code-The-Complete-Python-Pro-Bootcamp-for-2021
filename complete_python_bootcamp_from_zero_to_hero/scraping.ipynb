{
 "metadata": {
  "language_info": {
   "codemirror_mode": {
    "name": "ipython",
    "version": 3
   },
   "file_extension": ".py",
   "mimetype": "text/x-python",
   "name": "python",
   "nbconvert_exporter": "python",
   "pygments_lexer": "ipython3",
   "version": "3.9.5"
  },
  "orig_nbformat": 4,
  "kernelspec": {
   "name": "python3",
   "display_name": "Python 3.9.5 64-bit"
  },
  "interpreter": {
   "hash": "c5b322d1f5beaecfb28b050f61b5bc2c682da0c88a01138942a1439f934c1c07"
  }
 },
 "nbformat": 4,
 "nbformat_minor": 2,
 "cells": [
  {
   "cell_type": "code",
   "execution_count": 1,
   "metadata": {},
   "outputs": [],
   "source": [
    "import requests"
   ]
  },
  {
   "cell_type": "code",
   "execution_count": 4,
   "metadata": {},
   "outputs": [],
   "source": [
    "result = requests.get(\"http://example.com/\")"
   ]
  },
  {
   "cell_type": "code",
   "execution_count": 5,
   "metadata": {},
   "outputs": [
    {
     "output_type": "execute_result",
     "data": {
      "text/plain": [
       "requests.models.Response"
      ]
     },
     "metadata": {},
     "execution_count": 5
    }
   ],
   "source": [
    "type(result)"
   ]
  },
  {
   "cell_type": "code",
   "execution_count": 6,
   "metadata": {},
   "outputs": [
    {
     "output_type": "execute_result",
     "data": {
      "text/plain": [
       "'<!doctype html>\\n<html>\\n<head>\\n    <title>Example Domain</title>\\n\\n    <meta charset=\"utf-8\" />\\n    <meta http-equiv=\"Content-type\" content=\"text/html; charset=utf-8\" />\\n    <meta name=\"viewport\" content=\"width=device-width, initial-scale=1\" />\\n    <style type=\"text/css\">\\n    body {\\n        background-color: #f0f0f2;\\n        margin: 0;\\n        padding: 0;\\n        font-family: -apple-system, system-ui, BlinkMacSystemFont, \"Segoe UI\", \"Open Sans\", \"Helvetica Neue\", Helvetica, Arial, sans-serif;\\n        \\n    }\\n    div {\\n        width: 600px;\\n        margin: 5em auto;\\n        padding: 2em;\\n        background-color: #fdfdff;\\n        border-radius: 0.5em;\\n        box-shadow: 2px 3px 7px 2px rgba(0,0,0,0.02);\\n    }\\n    a:link, a:visited {\\n        color: #38488f;\\n        text-decoration: none;\\n    }\\n    @media (max-width: 700px) {\\n        div {\\n            margin: 0 auto;\\n            width: auto;\\n        }\\n    }\\n    </style>    \\n</head>\\n\\n<body>\\n<div>\\n    <h1>Example Domain</h1>\\n    <p>This domain is for use in illustrative examples in documents. You may use this\\n    domain in literature without prior coordination or asking for permission.</p>\\n    <p><a href=\"https://www.iana.org/domains/example\">More information...</a></p>\\n</div>\\n</body>\\n</html>\\n'"
      ]
     },
     "metadata": {},
     "execution_count": 6
    }
   ],
   "source": [
    "result.text"
   ]
  },
  {
   "cell_type": "code",
   "execution_count": 7,
   "metadata": {},
   "outputs": [],
   "source": [
    "import bs4"
   ]
  },
  {
   "cell_type": "code",
   "execution_count": 8,
   "metadata": {},
   "outputs": [],
   "source": [
    "soup = bs4.BeautifulSoup(result.text,\"lxml\")"
   ]
  },
  {
   "cell_type": "code",
   "execution_count": 9,
   "metadata": {},
   "outputs": [
    {
     "output_type": "execute_result",
     "data": {
      "text/plain": [
       "<!DOCTYPE html>\n",
       "<html>\n",
       "<head>\n",
       "<title>Example Domain</title>\n",
       "<meta charset=\"utf-8\"/>\n",
       "<meta content=\"text/html; charset=utf-8\" http-equiv=\"Content-type\"/>\n",
       "<meta content=\"width=device-width, initial-scale=1\" name=\"viewport\"/>\n",
       "<style type=\"text/css\">\n",
       "    body {\n",
       "        background-color: #f0f0f2;\n",
       "        margin: 0;\n",
       "        padding: 0;\n",
       "        font-family: -apple-system, system-ui, BlinkMacSystemFont, \"Segoe UI\", \"Open Sans\", \"Helvetica Neue\", Helvetica, Arial, sans-serif;\n",
       "        \n",
       "    }\n",
       "    div {\n",
       "        width: 600px;\n",
       "        margin: 5em auto;\n",
       "        padding: 2em;\n",
       "        background-color: #fdfdff;\n",
       "        border-radius: 0.5em;\n",
       "        box-shadow: 2px 3px 7px 2px rgba(0,0,0,0.02);\n",
       "    }\n",
       "    a:link, a:visited {\n",
       "        color: #38488f;\n",
       "        text-decoration: none;\n",
       "    }\n",
       "    @media (max-width: 700px) {\n",
       "        div {\n",
       "            margin: 0 auto;\n",
       "            width: auto;\n",
       "        }\n",
       "    }\n",
       "    </style>\n",
       "</head>\n",
       "<body>\n",
       "<div>\n",
       "<h1>Example Domain</h1>\n",
       "<p>This domain is for use in illustrative examples in documents. You may use this\n",
       "    domain in literature without prior coordination or asking for permission.</p>\n",
       "<p><a href=\"https://www.iana.org/domains/example\">More information...</a></p>\n",
       "</div>\n",
       "</body>\n",
       "</html>"
      ]
     },
     "metadata": {},
     "execution_count": 9
    }
   ],
   "source": [
    "soup"
   ]
  },
  {
   "cell_type": "code",
   "execution_count": 11,
   "metadata": {},
   "outputs": [
    {
     "output_type": "execute_result",
     "data": {
      "text/plain": [
       "[<title>Example Domain</title>]"
      ]
     },
     "metadata": {},
     "execution_count": 11
    }
   ],
   "source": [
    "soup.select(\"title\")"
   ]
  },
  {
   "cell_type": "code",
   "execution_count": 12,
   "metadata": {},
   "outputs": [
    {
     "output_type": "execute_result",
     "data": {
      "text/plain": [
       "[<p>This domain is for use in illustrative examples in documents. You may use this\n",
       "     domain in literature without prior coordination or asking for permission.</p>,\n",
       " <p><a href=\"https://www.iana.org/domains/example\">More information...</a></p>]"
      ]
     },
     "metadata": {},
     "execution_count": 12
    }
   ],
   "source": [
    "soup.select(\"p\")"
   ]
  },
  {
   "cell_type": "code",
   "execution_count": 13,
   "metadata": {},
   "outputs": [
    {
     "output_type": "execute_result",
     "data": {
      "text/plain": [
       "[<h1>Example Domain</h1>]"
      ]
     },
     "metadata": {},
     "execution_count": 13
    }
   ],
   "source": [
    "soup.select(\"h1\")"
   ]
  },
  {
   "cell_type": "code",
   "execution_count": 14,
   "metadata": {},
   "outputs": [
    {
     "output_type": "execute_result",
     "data": {
      "text/plain": [
       "<title>Example Domain</title>"
      ]
     },
     "metadata": {},
     "execution_count": 14
    }
   ],
   "source": [
    "soup.select('title')[0]"
   ]
  },
  {
   "cell_type": "code",
   "execution_count": 15,
   "metadata": {},
   "outputs": [
    {
     "output_type": "execute_result",
     "data": {
      "text/plain": [
       "'Example Domain'"
      ]
     },
     "metadata": {},
     "execution_count": 15
    }
   ],
   "source": [
    "soup.select('title')[0].getText()"
   ]
  },
  {
   "cell_type": "code",
   "execution_count": 16,
   "metadata": {},
   "outputs": [],
   "source": [
    "site_paragraphs = soup.select(\"p\")"
   ]
  },
  {
   "cell_type": "code",
   "execution_count": 17,
   "metadata": {},
   "outputs": [
    {
     "output_type": "execute_result",
     "data": {
      "text/plain": [
       "[<p>This domain is for use in illustrative examples in documents. You may use this\n",
       "     domain in literature without prior coordination or asking for permission.</p>,\n",
       " <p><a href=\"https://www.iana.org/domains/example\">More information...</a></p>]"
      ]
     },
     "metadata": {},
     "execution_count": 17
    }
   ],
   "source": [
    "site_paragraphs"
   ]
  },
  {
   "cell_type": "code",
   "execution_count": 18,
   "metadata": {},
   "outputs": [
    {
     "output_type": "execute_result",
     "data": {
      "text/plain": [
       "<p>This domain is for use in illustrative examples in documents. You may use this\n",
       "    domain in literature without prior coordination or asking for permission.</p>"
      ]
     },
     "metadata": {},
     "execution_count": 18
    }
   ],
   "source": [
    "site_paragraphs[0]"
   ]
  },
  {
   "cell_type": "code",
   "execution_count": 19,
   "metadata": {},
   "outputs": [
    {
     "output_type": "execute_result",
     "data": {
      "text/plain": [
       "bs4.element.ResultSet"
      ]
     },
     "metadata": {},
     "execution_count": 19
    }
   ],
   "source": [
    "type(site_paragraphs)"
   ]
  },
  {
   "cell_type": "code",
   "execution_count": 22,
   "metadata": {},
   "outputs": [
    {
     "output_type": "execute_result",
     "data": {
      "text/plain": [
       "'This domain is for use in illustrative examples in documents. You may use this\\n    domain in literature without prior coordination or asking for permission.'"
      ]
     },
     "metadata": {},
     "execution_count": 22
    }
   ],
   "source": [
    "site_paragraphs[0].getText()"
   ]
  },
  {
   "cell_type": "code",
   "execution_count": 23,
   "metadata": {},
   "outputs": [],
   "source": [
    "res = requests.get(\"https://en.wikipedia.org/wiki/Grace_Hopper\")"
   ]
  },
  {
   "cell_type": "code",
   "execution_count": 24,
   "metadata": {},
   "outputs": [],
   "source": [
    "soup = bs4.BeautifulSoup(res.text,\"lxml\")"
   ]
  },
  {
   "cell_type": "code",
   "execution_count": 25,
   "metadata": {},
   "outputs": [
    {
     "output_type": "execute_result",
     "data": {
      "text/plain": [
       "[<span class=\"toctext\">Early life and education</span>,\n",
       " <span class=\"toctext\">Career</span>,\n",
       " <span class=\"toctext\">World War II</span>,\n",
       " <span class=\"toctext\">UNIVAC</span>,\n",
       " <span class=\"toctext\">COBOL</span>,\n",
       " <span class=\"toctext\">Standards</span>,\n",
       " <span class=\"toctext\">Retirement</span>,\n",
       " <span class=\"toctext\">Post-retirement</span>,\n",
       " <span class=\"toctext\">Anecdotes</span>,\n",
       " <span class=\"toctext\">Death</span>,\n",
       " <span class=\"toctext\">Dates of rank</span>,\n",
       " <span class=\"toctext\">Awards and honors</span>,\n",
       " <span class=\"toctext\">Military awards</span>,\n",
       " <span class=\"toctext\">Other awards</span>,\n",
       " <span class=\"toctext\">Legacy</span>,\n",
       " <span class=\"toctext\">Places</span>,\n",
       " <span class=\"toctext\">Programs</span>,\n",
       " <span class=\"toctext\">In popular culture</span>,\n",
       " <span class=\"toctext\">Grace Hopper Celebration of Women in Computing</span>,\n",
       " <span class=\"toctext\">See also</span>,\n",
       " <span class=\"toctext\">Notes</span>,\n",
       " <span class=\"toctext\">Obituary notices</span>,\n",
       " <span class=\"toctext\">References</span>,\n",
       " <span class=\"toctext\">Further reading</span>,\n",
       " <span class=\"toctext\">External links</span>]"
      ]
     },
     "metadata": {},
     "execution_count": 25
    }
   ],
   "source": [
    "soup.select(\".toctext\")"
   ]
  },
  {
   "cell_type": "code",
   "execution_count": 26,
   "metadata": {},
   "outputs": [],
   "source": [
    "first_itme = soup.select(\".toctext\")[0]"
   ]
  },
  {
   "cell_type": "code",
   "execution_count": 27,
   "metadata": {},
   "outputs": [
    {
     "output_type": "execute_result",
     "data": {
      "text/plain": [
       "'Early life and education'"
      ]
     },
     "metadata": {},
     "execution_count": 27
    }
   ],
   "source": [
    "first_itme.text"
   ]
  },
  {
   "cell_type": "code",
   "execution_count": 29,
   "metadata": {},
   "outputs": [
    {
     "output_type": "stream",
     "name": "stdout",
     "text": [
      "Early life and education\nCareer\nWorld War II\nUNIVAC\nCOBOL\nStandards\nRetirement\nPost-retirement\nAnecdotes\nDeath\nDates of rank\nAwards and honors\nMilitary awards\nOther awards\nLegacy\nPlaces\nPrograms\nIn popular culture\nGrace Hopper Celebration of Women in Computing\nSee also\nNotes\nObituary notices\nReferences\nFurther reading\nExternal links\n"
     ]
    }
   ],
   "source": [
    "for item in soup.select(\".toctext\"):\n",
    "    print(item.text)"
   ]
  },
  {
   "cell_type": "code",
   "execution_count": 38,
   "metadata": {},
   "outputs": [],
   "source": [
    "res_big_blue = requests.get(\"https://en.wikipedia.org/wiki/Deep_Blue_(chess_computer)\")"
   ]
  },
  {
   "cell_type": "code",
   "execution_count": 39,
   "metadata": {},
   "outputs": [],
   "source": [
    "soup = bs4.BeautifulSoup(res_big_blue.text,\"lxml\")"
   ]
  },
  {
   "cell_type": "code",
   "execution_count": 33,
   "metadata": {},
   "outputs": [
    {
     "output_type": "execute_result",
     "data": {
      "text/plain": [
       "Tools</span>\n",
       "</h3>\n",
       "<div class=\"vector-menu-content\">\n",
       "<ul class=\"vector-menu-content-list\"><li id=\"t-whatlinkshere\"><a accesskey=\"j\" href=\"/wiki/Special:WhatLinksHere/Deep_Blue_(chess_computer)\" title=\"List of all English Wikipedia pages containing links to this page [j]\">What links here</a></li><li id=\"t-recentchangeslinked\"><a accesskey=\"k\" href=\"/wiki/Special:RecentChangesLinked/Deep_Blue_(chess_computer)\" rel=\"nofollow\" title=\"Recent changes in pages linked from this page [k]\">Related changes</a></li><li id=\"t-upload\"><a accesskey=\"u\" href=\"/wiki/Wikipedia:File_Upload_Wizard\" title=\"Upload files [u]\">Upload file</a></li><li id=\"t-specialpages\"><a accesskey=\"q\" href=\"/wiki/Special:SpecialPages\" title=\"A list of all special pages [q]\">Special pages</a></li><li id=\"t-permalink\"><a href=\"/w/index.php?title=Deep_Blue_(chess_computer)&amp;oldid=1030396284\" title=\"Permanent link to this revision of this page\">Permanent link</a></li><li id=\"t-info\"><a href=\"/w/index.php?title=Deep_Blue_(chess_computer)&amp;action=info\" title=\"More information about this page\">Page information</a></li><li id=\"t-cite\"><a href=\"/w/index.php?title=Special:CiteThisPage&amp;page=Deep_Blue_%28chess_computer%29&amp;id=1030396284&amp;wpFormIdentifier=titleform\" title=\"Information on how to cite this page\">Cite this page</a></li><li id=\"t-wikibase\"><a accesskey=\"g\" href=\"https://www.wikidata.org/wiki/Special:EntityPage/Q187899\" title=\"Structured data on this page hosted by Wikidata [g]\">Wikidata item</a></li></ul>\n",
       "</div>\n",
       "</nav>\n",
       "<nav aria-labelledby=\"p-coll-print_export-label\" class=\"mw-portlet mw-portlet-coll-print_export vector-menu vector-menu-portal portal\" id=\"p-coll-print_export\" role=\"navigation\">\n",
       "<h3 class=\"vector-menu-heading\" id=\"p-coll-print_export-label\">\n",
       "<span>Print/export</span>\n",
       "</h3>\n",
       "<div class=\"vector-menu-content\">\n",
       "<ul class=\"vector-menu-content-list\"><li id=\"coll-download-as-rl\"><a href=\"/w/index.php?title=Special:DownloadAsPdf&amp;page=Deep_Blue_%28chess_computer%29&amp;action=show-download-screen\" title=\"Download this page as a PDF file\">Download as PDF</a></li><li id=\"t-print\"><a accesskey=\"p\" href=\"/w/index.php?title=Deep_Blue_(chess_computer)&amp;printable=yes\" title=\"Printable version of this page [p]\">Printable version</a></li></ul>\n",
       "</div>\n",
       "</nav>\n",
       "<nav aria-labelledby=\"p-wikibase-otherprojects-label\" class=\"mw-portlet mw-portlet-wikibase-otherprojects vector-menu vector-menu-portal portal\" id=\"p-wikibase-otherprojects\" role=\"navigation\">\n",
       "<h3 class=\"vector-menu-heading\" id=\"p-wikibase-otherprojects-label\">\n",
       "<span>In other projects</span>\n",
       "</h3>\n",
       "<div class=\"vector-menu-content\">\n",
       "<ul class=\"vector-menu-content-list\"><li class=\"wb-otherproject-link wb-otherproject-commons\"><a href=\"https://commons.wikimedia.org/wiki/Category:Deep_Blue\" hreflang=\"en\">Wikimedia Commons</a></li></ul>\n",
       "</div>\n",
       "</nav>\n",
       "<nav aria-labelledby=\"p-lang-label\" class=\"mw-portlet mw-portlet-lang vector-menu vector-menu-portal portal\" id=\"p-lang\" role=\"navigation\">\n",
       "<h3 class=\"vector-menu-heading\" id=\"p-lang-label\">\n",
       "<span>Languages</span>\n",
       "</h3>\n",
       "<div class=\"vector-menu-content\">\n",
       "<ul class=\"vector-menu-content-list\"><li class=\"interlanguage-link interwiki-ar\"><a class=\"interlanguage-link-target\" href=\"https://ar.wikipedia.org/wiki/%D8%AF%D9%8A%D8%A8_%D8%A8%D9%84%D9%88\" hreflang=\"ar\" lang=\"ar\" title=\"ديب بلو – Arabic\">العربية</a></li><li class=\"interlanguage-link interwiki-az\"><a class=\"interlanguage-link-target\" href=\"https://az.wikipedia.org/wiki/Deep_Blue\" hreflang=\"az\" lang=\"az\" title=\"Deep Blue – Azerbaijani\">Azərbaycanca</a></li><li class=\"interlanguage-link interwiki-bn\"><a class=\"interlanguage-link-target\" href=\"https://bn.wikipedia.org/wiki/%E0%A6%A1%E0%A7%80%E0%A6%AA_%E0%A6%AC%E0%A7%8D%E0%A6%B2%E0%A7%81\" hreflang=\"bn\" lang=\"bn\" title=\"ডীপ ব্লু – Bangla\">বাংলা</a></li><li class=\"interlanguage-link interwiki-be\"><a class=\"interlanguage-link-target\" href=\"https://be.wikipedia.org/wiki/Deep_Blue\" hreflang=\"be\" lang=\"be\" title=\"Deep Blue – Belarusian\">Беларуская</a></li><li class=\"interlanguage-link interwiki-be-x-old\"><a class=\"interlanguage-link-target\" href=\"https://be-tarask.wikipedia.org/wiki/Deep_Blue\" hreflang=\"be-tarask\" lang=\"be-tarask\" title=\"Deep Blue – Belarusian (Taraškievica orthography)\">Беларуская (тарашкевіца)</a></li><li class=\"interlanguage-link interwiki-ca\"><a class=\"interlanguage-link-target\" href=\"https://ca.wikipedia.org/wiki/Deep_Blue\" hreflang=\"ca\" lang=\"ca\" title=\"Deep Blue – Catalan\">Català</a></li><li class=\"interlanguage-link interwiki-cs\"><a class=\"interlanguage-link-target\" href=\"https://cs.wikipedia.org/wiki/Deep_Blue\" hreflang=\"cs\" lang=\"cs\" title=\"Deep Blue – Czech\">Čeština</a></li><li class=\"interlanguage-link interwiki-da\"><a class=\"interlanguage-link-target\" href=\"https://da.wikipedia.org/wiki/Deep_Blue\" hreflang=\"da\" lang=\"da\" title=\"Deep Blue – Danish\">Dansk</a></li><li class=\"interlanguage-link interwiki-de\"><a class=\"interlanguage-link-target\" href=\"https://de.wikipedia.org/wiki/Deep_Blue\" hreflang=\"de\" lang=\"de\" title=\"Deep Blue – German\">Deutsch</a></li><li class=\"interlanguage-link interwiki-et\"><a class=\"interlanguage-link-target\" href=\"https://et.wikipedia.org/wiki/Deep_Blue\" hreflang=\"et\" lang=\"et\" title=\"Deep Blue – Estonian\">Eesti</a></li><li class=\"interlanguage-link interwiki-el\"><a class=\"interlanguage-link-target\" href=\"https://el.wikipedia.org/wiki/Deep_blue\" hreflang=\"el\" lang=\"el\" title=\"Deep blue – Greek\">Ελληνικά</a></li><li class=\"interlanguage-link interwiki-es\"><a class=\"interlanguage-link-target\" href=\"https://es.wikipedia.org/wiki/Deep_Blue_(computadora)\" hreflang=\"es\" lang=\"es\" title=\"Deep Blue (computadora) – Spanish\">Español</a></li><li class=\"interlanguage-link interwiki-eo\"><a class=\"interlanguage-link-target\" href=\"https://eo.wikipedia.org/wiki/Deep_Blue\" hreflang=\"eo\" lang=\"eo\" title=\"Deep Blue – Esperanto\">Esperanto</a></li><li class=\"interlanguage-link interwiki-eu\"><a class=\"interlanguage-link-target\" href=\"https://eu.wikipedia.org/wiki/Deep_Blue\" hreflang=\"eu\" lang=\"eu\" title=\"Deep Blue – Basque\">Euskara</a></li><li class=\"interlanguage-link interwiki-fa\"><a class=\"interlanguage-link-target\" href=\"https://fa.wikipedia.org/wiki/%D8%A2%D8%A8%DB%8C_%D8%B9%D9%85%DB%8C%D9%82\" hreflang=\"fa\" lang=\"fa\" title=\"آبی عمیق – Persian\">فارسی</a></li><li class=\"interlanguage-link interwiki-fr\"><a class=\"interlanguage-link-target\" href=\"https://fr.wikipedia.org/wiki/Deep_Blue\" hreflang=\"fr\" lang=\"fr\" title=\"Deep Blue – French\">Français</a></li><li class=\"interlanguage-link interwiki-gl\"><a class=\"interlanguage-link-target\" href=\"https://gl.wikipedia.org/wiki/Deep_Blue_(computadora)\" hreflang=\"gl\" lang=\"gl\" title=\"Deep Blue (computadora) – Galician\">Galego</a></li><li class=\"interlanguage-link interwiki-ko\"><a class=\"interlanguage-link-target\" href=\"https://ko.wikipedia.org/wiki/%EB%94%A5_%EB%B8%94%EB%A3%A8\" hreflang=\"ko\" lang=\"ko\" title=\"딥 블루 – Korean\">한국어</a></li><li class=\"interlanguage-link interwiki-hy\"><a class=\"interlanguage-link-target\" href=\"https://hy.wikipedia.org/wiki/%D4%B4%D5%AB%D6%83_%D4%B2%D5%AC%D5%B8%D6%82\" hreflang=\"hy\" lang=\"hy\" title=\"Դիփ Բլու – Armenian\">Հայերեն</a></li><li class=\"interlanguage-link interwiki-hr\"><a class=\"interlanguage-link-target\" href=\"https://hr.wikipedia.org/wiki/Deep_Blue\" hreflang=\"hr\" lang=\"hr\" title=\"Deep Blue – Croatian\">Hrvatski</a></li><li class=\"interlanguage-link interwiki-id\"><a class=\"interlanguage-link-target\" href=\"https://id.wikipedia.org/wiki/Deep_Blue\" hreflang=\"id\" lang=\"id\" title=\"Deep Blue – Indonesian\">Bahasa Indonesia</a></li><li class=\"interlanguage-link interwiki-ia\"><a class=\"interlanguage-link-target\" href=\"https://ia.wikipedia.org/wiki/Deep_Blue\" hreflang=\"ia\" lang=\"ia\" title=\"Deep Blue – Interlingua\">Interlingua</a></li><li class=\"interlanguage-link interwiki-is\"><a class=\"interlanguage-link-target\" href=\"https://is.wikipedia.org/wiki/Deep_Blue\" hreflang=\"is\" lang=\"is\" title=\"Deep Blue – Icelandic\">Íslenska</a></li><li class=\"interlanguage-link interwiki-it\"><a class=\"interlanguage-link-target\" href=\"https://it.wikipedia.org/wiki/IBM_Deep_Blue\" hreflang=\"it\" lang=\"it\" title=\"IBM Deep Blue – Italian\">Italiano</a></li><li class=\"interlanguage-link interwiki-he\"><a class=\"interlanguage-link-target\" href=\"https://he.wikipedia.org/wiki/%D7%9B%D7%97%D7%95%D7%9C_%D7%A2%D7%9E%D7%95%D7%A7\" hreflang=\"he\" lang=\"he\" title=\"כחול עמוק – Hebrew\">עברית</a></li><li class=\"interlanguage-link interwiki-jv\"><a class=\"interlanguage-link-target\" href=\"https://jv.wikipedia.org/wiki/Deep_Blue\" hreflang=\"jv\" lang=\"jv\" title=\"Deep Blue – Javanese\">Jawa</a></li><li class=\"interlanguage-link interwiki-kn\"><a class=\"interlanguage-link-target\" href=\"https://kn.wikipedia.org/wiki/%E0%B2%A1%E0%B3%80%E0%B2%AA%E0%B3%8D_%E0%B2%AC%E0%B3%8D%E0%B2%B2%E0%B3%82\" hreflang=\"kn\" lang=\"kn\" title=\"ಡೀಪ್ ಬ್ಲೂ – Kannada\">ಕನ್ನಡ</a></li><li class=\"interlanguage-link interwiki-kk\"><a class=\"interlanguage-link-target\" href=\"https://kk.wikipedia.org/wiki/Deep_Blue_(%D1%88%D0%B0%D1%85%D0%BC%D0%B0%D1%82_%D0%BA%D0%BE%D0%BC%D0%BF%D1%8C%D1%8E%D1%82%D0%B5%D1%80%D1%96)\" hreflang=\"kk\" lang=\"kk\" title=\"Deep Blue (шахмат компьютері) – Kazakh\">Қазақша</a></li><li class=\"interlanguage-link interwiki-lv\"><a class=\"interlanguage-link-target\" href=\"https://lv.wikipedia.org/wiki/Deep_Blue\" hreflang=\"lv\" lang=\"lv\" title=\"Deep Blue – Latvian\">Latviešu</a></li><li class=\"interlanguage-link interwiki-lt\"><a class=\"interlanguage-link-target\" href=\"https://lt.wikipedia.org/wiki/Deep_Blue\" hreflang=\"lt\" lang=\"lt\" title=\"Deep Blue – Lithuanian\">Lietuvių</a></li><li class=\"interlanguage-link interwiki-hu\"><a class=\"interlanguage-link-target\" href=\"https://hu.wikipedia.org/wiki/Deep_Blue\" hreflang=\"hu\" lang=\"hu\" title=\"Deep Blue – Hungarian\">Magyar</a></li><li class=\"interlanguage-link interwiki-mk\"><a class=\"interlanguage-link-target\" href=\"https://mk.wikipedia.org/wiki/IBM_Deep_Blue\" hreflang=\"mk\" lang=\"mk\" title=\"IBM Deep Blue – Macedonian\">Македонски</a></li><li class=\"interlanguage-link interwiki-ml\"><a class=\"interlanguage-link-target\" href=\"https://ml.wikipedia.org/wiki/%E0%B4%A1%E0%B5%80%E0%B4%AA%E0%B5%8D%E0%B4%AA%E0%B5%8D_%E0%B4%AC%E0%B5%8D%E0%B4%B2%E0%B5%82\" hreflang=\"ml\" lang=\"ml\" title=\"ഡീപ്പ് ബ്ലൂ – Malayalam\">മലയാളം</a></li><li class=\"interlanguage-link interwiki-mr\"><a class=\"interlanguage-link-target\" href=\"https://mr.wikipedia.org/wiki/%E0%A4%A1%E0%A5%80%E0%A4%AA_%E0%A4%AC%E0%A5%8D%E0%A4%B2%E0%A5%8D%E0%A4%AF%E0%A5%81_(%E0%A4%AE%E0%A4%B9%E0%A4%BE%E0%A4%B8%E0%A4%82%E0%A4%97%E0%A4%A3%E0%A4%95)\" hreflang=\"mr\" lang=\"mr\" title=\"डीप ब्ल्यु (महासंगणक) – Marathi\">मराठी</a></li><li class=\"interlanguage-link interwiki-ms\"><a class=\"interlanguage-link-target\" href=\"https://ms.wikipedia.org/wiki/Deep_Blue_(komputer_catur)\" hreflang=\"ms\" lang=\"ms\" title=\"Deep Blue (komputer catur) – Malay\">Bahasa Melayu</a></li><li class=\"interlanguage-link interwiki-nl\"><a class=\"interlanguage-link-target\" href=\"https://nl.wikipedia.org/wiki/Deep_Blue\" hreflang=\"nl\" lang=\"nl\" title=\"Deep Blue – Dutch\">Nederlands</a></li><li class=\"interlanguage-link interwiki-ja\"><a class=\"interlanguage-link-target\" href=\"https://ja.wikipedia.org/wiki/%E3%83%87%E3%82%A3%E3%83%BC%E3%83%97%E3%83%BB%E3%83%96%E3%83%AB%E3%83%BC_(%E3%82%B3%E3%83%B3%E3%83%94%E3%83%A5%E3%83%BC%E3%82%BF)\" hreflang=\"ja\" lang=\"ja\" title=\"ディープ・ブルー (コンピュータ) – Japanese\">日本語</a></li><li class=\"interlanguage-link interwiki-no\"><a class=\"interlanguage-link-target\" href=\"https://no.wikipedia.org/wiki/Deep_Blue\" hreflang=\"nb\" lang=\"nb\" title=\"Deep Blue – Norwegian Bokmål\">Norsk bokmål</a></li><li class=\"interlanguage-link interwiki-nn\"><a class=\"interlanguage-link-target\" href=\"https://nn.wikipedia.org/wiki/Deep_Blue\" hreflang=\"nn\" lang=\"nn\" title=\"Deep Blue – Norwegian Nynorsk\">Norsk nynorsk</a></li><li class=\"interlanguage-link interwiki-pl\"><a class=\"interlanguage-link-target\" href=\"https://pl.wikipedia.org/wiki/Deep_Blue\" hreflang=\"pl\" lang=\"pl\" title=\"Deep Blue – Polish\">Polski</a></li><li class=\"interlanguage-link interwiki-pt\"><a class=\"interlanguage-link-target\" href=\"https://pt.wikipedia.org/wiki/Deep_Blue\" hreflang=\"pt\" lang=\"pt\" title=\"Deep Blue – Portuguese\">Português</a></li><li class=\"interlanguage-link interwiki-ro badge-Q17437798 badge-goodarticle\" title=\"good article badge\"><a class=\"interlanguage-link-target\" href=\"https://ro.wikipedia.org/wiki/Deep_Blue\" hreflang=\"ro\" lang=\"ro\" title=\"Deep Blue – Romanian\">Română</a></li><li class=\"interlanguage-link interwiki-ru\"><a class=\"interlanguage-link-target\" href=\"https://ru.wikipedia.org/wiki/Deep_Blue\" hreflang=\"ru\" lang=\"ru\" title=\"Deep Blue – Russian\">Русский</a></li><li class=\"interlanguage-link interwiki-sk\"><a class=\"interlanguage-link-target\" href=\"https://sk.wikipedia.org/wiki/Deep_Blue\" hreflang=\"sk\" lang=\"sk\" title=\"Deep Blue – Slovak\">Slovenčina</a></li><li class=\"interlanguage-link interwiki-sh\"><a class=\"interlanguage-link-target\" href=\"https://sh.wikipedia.org/wiki/IBM_Deep_Blue\" hreflang=\"sh\" lang=\"sh\" title=\"IBM Deep Blue – Serbo-Croatian\">Srpskohrvatski / српскохрватски</a></li><li class=\"interlanguage-link interwiki-fi\"><a class=\"interlanguage-link-target\" href=\"https://fi.wikipedia.org/wiki/Deep_Blue\" hreflang=\"fi\" lang=\"fi\" title=\"Deep Blue – Finnish\">Suomi</a></li><li class=\"interlanguage-link interwiki-sv\"><a class=\"interlanguage-link-target\" href=\"https://sv.wikipedia.org/wiki/Deep_Blue_(schackdator)\" hreflang=\"sv\" lang=\"sv\" title=\"Deep Blue (schackdator) – Swedish\">Svenska</a></li><li class=\"interlanguage-link interwiki-th\"><a class=\"interlanguage-link-target\" href=\"https://th.wikipedia.org/wiki/%E0%B8%94%E0%B8%B5%E0%B8%9B%E0%B8%9A%E0%B8%A5%E0%B8%B9\" hreflang=\"th\" lang=\"th\" title=\"ดีปบลู – Thai\">ไทย</a></li><li class=\"interlanguage-link interwiki-tr\"><a class=\"interlanguage-link-target\" href=\"https://tr.wikipedia.org/wiki/Deep_Blue\" hreflang=\"tr\" lang=\"tr\" title=\"Deep Blue – Turkish\">Türkçe</a></li><li class=\"interlanguage-link interwiki-uk\"><a class=\"interlanguage-link-target\" href=\"https://uk.wikipedia.org/wiki/Deep_Blue\" hreflang=\"uk\" lang=\"uk\" title=\"Deep Blue – Ukrainian\">Українська</a></li><li class=\"interlanguage-link interwiki-vi\"><a class=\"interlanguage-link-target\" href=\"https://vi.wikipedia.org/wiki/Deep_Blue\" hreflang=\"vi\" lang=\"vi\" title=\"Deep Blue – Vietnamese\">Tiếng Việt</a></li><li class=\"interlanguage-link interwiki-wuu\"><a class=\"interlanguage-link-target\" href=\"https://wuu.wikipedia.org/wiki/%E6%B7%B1%E8%93%9D_(%E8%B6%85%E7%BA%A7%E8%AE%A1%E7%AE%97%E6%9C%BA)\" hreflang=\"wuu\" lang=\"wuu\" title=\"深蓝 (超级计算机) – Wu Chinese\">吴语</a></li><li class=\"interlanguage-link interwiki-zh\"><a class=\"interlanguage-link-target\" href=\"https://zh.wikipedia.org/wiki/%E6%B7%B1%E8%97%8D_(%E8%B6%85%E7%B4%9A%E9%9B%BB%E8%85%A6)\" hreflang=\"zh\" lang=\"zh\" title=\"深藍 (超級電腦) – Chinese\">中文</a></li></ul>\n",
       "<div class=\"after-portlet after-portlet-lang\"><span class=\"wb-langlinks-edit wb-langlinks-link\"><a class=\"wbc-editpage\" href=\"https://www.wikidata.org/wiki/Special:EntityPage/Q187899#sitelinks-wikipedia\" title=\"Edit interlanguage links\">Edit links</a></span></div>\n",
       "</div>\n",
       "</nav>\n",
       "</div>\n",
       "</div>\n",
       "<footer class=\"mw-footer\" id=\"footer\" role=\"contentinfo\">\n",
       "<ul id=\"footer-info\">\n",
       "<li id=\"footer-info-lastmod\"> This page was last edited on 25 June 2021, at 17:24<span class=\"anonymous-show\"> (UTC)</span>.</li>\n",
       "<li id=\"footer-info-copyright\">Text is available under the <a href=\"//en.wikipedia.org/wiki/Wikipedia:Text_of_Creative_Commons_Attribution-ShareAlike_3.0_Unported_License\" rel=\"license\">Creative Commons Attribution-ShareAlike License</a><a href=\"//creativecommons.org/licenses/by-sa/3.0/\" rel=\"license\" style=\"display:none;\"></a>;\n",
       "additional terms may apply.  By using this site, you agree to the <a href=\"//foundation.wikimedia.org/wiki/Terms_of_Use\">Terms of Use</a> and <a href=\"//foundation.wikimedia.org/wiki/Privacy_policy\">Privacy Policy</a>. Wikipedia® is a registered trademark of the <a href=\"//www.wikimediafoundation.org/\">Wikimedia Foundation, Inc.</a>, a non-profit organization.</li>\n",
       "</ul>\n",
       "<ul id=\"footer-places\">\n",
       "<li id=\"footer-places-privacy\"><a class=\"extiw\" href=\"https://foundation.wikimedia.org/wiki/Privacy_policy\" title=\"wmf:Privacy policy\">Privacy policy</a></li>\n",
       "<li id=\"footer-places-about\"><a href=\"/wiki/Wikipedia:About\" title=\"Wikipedia:About\">About Wikipedia</a></li>\n",
       "<li id=\"footer-places-disclaimer\"><a href=\"/wiki/Wikipedia:General_disclaimer\" title=\"Wikipedia:General disclaimer\">Disclaimers</a></li>\n",
       "<li id=\"footer-places-contact\"><a href=\"//en.wikipedia.org/wiki/Wikipedia:Contact_us\">Contact Wikipedia</a></li>\n",
       "<li id=\"footer-places-mobileview\"><a class=\"noprint stopMobileRedirectToggle\" href=\"//en.m.wikipedia.org/w/index.php?title=Deep_Blue_(chess_computer)&amp;mobileaction=toggle_view_mobile\">Mobile view</a></li>\n",
       "<li id=\"footer-places-developers\"><a href=\"https://www.mediawiki.org/wiki/Special:MyLanguage/How_to_contribute\">Developers</a></li>\n",
       "<li id=\"footer-places-statslink\"><a href=\"https://stats.wikimedia.org/#/en.wikipedia.org\">Statistics</a></li>\n",
       "<li id=\"footer-places-cookiestatement\"><a href=\"https://foundation.wikimedia.org/wiki/Cookie_statement\">Cookie statement</a></li>\n",
       "</ul>\n",
       "<ul class=\"noprint\" id=\"footer-icons\">\n",
       "<li id=\"footer-copyrightico\"><a href=\"https://wikimediafoundation.org/\"><img alt=\"Wikimedia Foundation\" height=\"31\" loading=\"lazy\" src=\"/static/images/footer/wikimedia-button.png\" srcset=\"/static/images/footer/wikimedia-button-1.5x.png 1.5x, /static/images/footer/wikimedia-button-2x.png 2x\" width=\"88\"/></a></li>\n",
       "<li id=\"footer-poweredbyico\"><a href=\"https://www.mediawiki.org/\"><img alt=\"Powered by MediaWiki\" height=\"31\" loading=\"lazy\" src=\"/static/images/footer/poweredby_mediawiki_88x31.png\" srcset=\"/static/images/footer/poweredby_mediawiki_132x47.png 1.5x, /static/images/footer/poweredby_mediawiki_176x62.png 2x\" width=\"88\"/></a></li>\n",
       "</ul>\n",
       "</footer>\n",
       "<script>(RLQ=window.RLQ||[]).push(function(){mw.config.set({\"wgPageParseReport\":{\"limitreport\":{\"cputime\":\"1.052\",\"walltime\":\"1.371\",\"ppvisitednodes\":{\"value\":2776,\"limit\":1000000},\"postexpandincludesize\":{\"value\":154444,\"limit\":2097152},\"templateargumentsize\":{\"value\":1571,\"limit\":2097152},\"expansiondepth\":{\"value\":13,\"limit\":40},\"expensivefunctioncount\":{\"value\":4,\"limit\":500},\"unstrip-depth\":{\"value\":1,\"limit\":20},\"unstrip-size\":{\"value\":129530,\"limit\":5000000},\"entityaccesscount\":{\"value\":1,\"limit\":400},\"timingprofile\":[\"100.00% 1110.557      1 -total\",\" 41.33%  458.976      1 Template:Reflist\",\" 14.33%  159.184      8 Template:Cite_news\",\" 10.95%  121.588      1 Template:Authority_control\",\" 10.49%  116.540      1 Template:Chess_programming_series\",\" 10.11%  112.264      1 Template:Sidebar\",\"  9.48%  105.281      1 Template:Short_description\",\"  8.97%   99.609     14 Template:Cite_book\",\"  8.07%   89.671     12 Template:Cite_web\",\"  6.86%   76.213      3 Template:Navbox\"]},\"scribunto\":{\"limitreport-timeusage\":{\"value\":\"0.546\",\"limit\":\"10.000\"},\"limitreport-memusage\":{\"value\":7662749,\"limit\":52428800},\"limitreport-logs\":\"table#1 {\\n}\\n\"},\"cachereport\":{\"origin\":\"mw1272\",\"timestamp\":\"20210626181357\",\"ttl\":1814400,\"transientcontent\":false}}});});</script>\n",
       "<script type=\"application/ld+json\">{\"@context\":\"https:\\/\\/schema.org\",\"@type\":\"Article\",\"name\":\"Deep Blue (chess computer)\",\"url\":\"https:\\/\\/en.wikipedia.org\\/wiki\\/Deep_Blue_(chess_computer)\",\"sameAs\":\"http:\\/\\/www.wikidata.org\\/entity\\/Q187899\",\"mainEntity\":\"http:\\/\\/www.wikidata.org\\/entity\\/Q187899\",\"author\":{\"@type\":\"Organization\",\"name\":\"Contributors to Wikimedia projects\"},\"publisher\":{\"@type\":\"Organization\",\"name\":\"Wikimedia Foundation, Inc.\",\"logo\":{\"@type\":\"ImageObject\",\"url\":\"https:\\/\\/www.wikimedia.org\\/static\\/images\\/wmf-hor-googpub.png\"}},\"datePublished\":\"2002-04-17T05:44:33Z\",\"dateModified\":\"2021-06-25T17:24:31Z\",\"image\":\"https:\\/\\/upload.wikimedia.org\\/wikipedia\\/commons\\/b\\/be\\/Deep_Blue.jpg\",\"headline\":\"supercomputer\"}</script>\n",
       "<script>(RLQ=window.RLQ||[]).push(function(){mw.config.set({\"wgBackendResponseTime\":210,\"wgHostname\":\"mw1330\"});});</script>\n",
       "</body></html>"
      ]
     },
     "metadata": {},
     "execution_count": 33
    }
   ],
   "source": [
    "soup"
   ]
  },
  {
   "cell_type": "code",
   "execution_count": 34,
   "metadata": {},
   "outputs": [
    {
     "output_type": "execute_result",
     "data": {
      "text/plain": [
       "[<img alt=\"Deep Blue.jpg\" data-file-height=\"601\" data-file-width=\"400\" decoding=\"async\" height=\"331\" src=\"//upload.wikimedia.org/wikipedia/commons/thumb/b/be/Deep_Blue.jpg/220px-Deep_Blue.jpg\" srcset=\"//upload.wikimedia.org/wikipedia/commons/thumb/b/be/Deep_Blue.jpg/330px-Deep_Blue.jpg 1.5x, //upload.wikimedia.org/wikipedia/commons/b/be/Deep_Blue.jpg 2x\" width=\"220\"/>,\n",
       " <img alt=\"Chess Programming.svg\" data-file-height=\"60\" data-file-width=\"60\" decoding=\"async\" height=\"150\" src=\"//upload.wikimedia.org/wikipedia/commons/thumb/5/52/Chess_Programming.svg/150px-Chess_Programming.svg.png\" srcset=\"//upload.wikimedia.org/wikipedia/commons/thumb/5/52/Chess_Programming.svg/225px-Chess_Programming.svg.png 1.5x, //upload.wikimedia.org/wikipedia/commons/thumb/5/52/Chess_Programming.svg/300px-Chess_Programming.svg.png 2x\" width=\"150\"/>,\n",
       " <img alt=\"\" class=\"thumbimage\" data-file-height=\"600\" data-file-width=\"800\" decoding=\"async\" height=\"165\" src=\"//upload.wikimedia.org/wikipedia/commons/thumb/6/6f/Kasparov_Magath_1985_Hamburg-2.png/220px-Kasparov_Magath_1985_Hamburg-2.png\" srcset=\"//upload.wikimedia.org/wikipedia/commons/thumb/6/6f/Kasparov_Magath_1985_Hamburg-2.png/330px-Kasparov_Magath_1985_Hamburg-2.png 1.5x, //upload.wikimedia.org/wikipedia/commons/thumb/6/6f/Kasparov_Magath_1985_Hamburg-2.png/440px-Kasparov_Magath_1985_Hamburg-2.png 2x\" width=\"220\"/>,\n",
       " <img alt=\"Nuvola apps package games strategy.png\" class=\"noviewer\" data-file-height=\"128\" data-file-width=\"128\" decoding=\"async\" height=\"28\" src=\"//upload.wikimedia.org/wikipedia/commons/thumb/5/5e/Nuvola_apps_package_games_strategy.png/28px-Nuvola_apps_package_games_strategy.png\" srcset=\"//upload.wikimedia.org/wikipedia/commons/thumb/5/5e/Nuvola_apps_package_games_strategy.png/42px-Nuvola_apps_package_games_strategy.png 1.5x, //upload.wikimedia.org/wikipedia/commons/thumb/5/5e/Nuvola_apps_package_games_strategy.png/56px-Nuvola_apps_package_games_strategy.png 2x\" width=\"28\"/>,\n",
       " <img alt=\"IBM logo.svg\" data-file-height=\"400\" data-file-width=\"1000\" decoding=\"async\" height=\"48\" src=\"//upload.wikimedia.org/wikipedia/commons/thumb/5/51/IBM_logo.svg/120px-IBM_logo.svg.png\" srcset=\"//upload.wikimedia.org/wikipedia/commons/thumb/5/51/IBM_logo.svg/180px-IBM_logo.svg.png 1.5x, //upload.wikimedia.org/wikipedia/commons/thumb/5/51/IBM_logo.svg/240px-IBM_logo.svg.png 2x\" width=\"120\"/>,\n",
       " <img alt=\"Edit this at Wikidata\" data-file-height=\"20\" data-file-width=\"20\" decoding=\"async\" height=\"10\" src=\"//upload.wikimedia.org/wikipedia/en/thumb/8/8a/OOjs_UI_icon_edit-ltr-progressive.svg/10px-OOjs_UI_icon_edit-ltr-progressive.svg.png\" srcset=\"//upload.wikimedia.org/wikipedia/en/thumb/8/8a/OOjs_UI_icon_edit-ltr-progressive.svg/15px-OOjs_UI_icon_edit-ltr-progressive.svg.png 1.5x, //upload.wikimedia.org/wikipedia/en/thumb/8/8a/OOjs_UI_icon_edit-ltr-progressive.svg/20px-OOjs_UI_icon_edit-ltr-progressive.svg.png 2x\" style=\"vertical-align: text-top\" width=\"10\"/>,\n",
       " <img alt=\"\" height=\"1\" src=\"//en.wikipedia.org/wiki/Special:CentralAutoLogin/start?type=1x1\" style=\"border: none; position: absolute;\" title=\"\" width=\"1\"/>,\n",
       " <img alt=\"Wikimedia Foundation\" height=\"31\" loading=\"lazy\" src=\"/static/images/footer/wikimedia-button.png\" srcset=\"/static/images/footer/wikimedia-button-1.5x.png 1.5x, /static/images/footer/wikimedia-button-2x.png 2x\" width=\"88\"/>,\n",
       " <img alt=\"Powered by MediaWiki\" height=\"31\" loading=\"lazy\" src=\"/static/images/footer/poweredby_mediawiki_88x31.png\" srcset=\"/static/images/footer/poweredby_mediawiki_132x47.png 1.5x, /static/images/footer/poweredby_mediawiki_176x62.png 2x\" width=\"88\"/>]"
      ]
     },
     "metadata": {},
     "execution_count": 34
    }
   ],
   "source": [
    "soup.select('img')"
   ]
  },
  {
   "cell_type": "code",
   "execution_count": 35,
   "metadata": {},
   "outputs": [
    {
     "output_type": "execute_result",
     "data": {
      "text/plain": [
       "<img alt=\"Deep Blue.jpg\" data-file-height=\"601\" data-file-width=\"400\" decoding=\"async\" height=\"331\" src=\"//upload.wikimedia.org/wikipedia/commons/thumb/b/be/Deep_Blue.jpg/220px-Deep_Blue.jpg\" srcset=\"//upload.wikimedia.org/wikipedia/commons/thumb/b/be/Deep_Blue.jpg/330px-Deep_Blue.jpg 1.5x, //upload.wikimedia.org/wikipedia/commons/b/be/Deep_Blue.jpg 2x\" width=\"220\"/>"
      ]
     },
     "metadata": {},
     "execution_count": 35
    }
   ],
   "source": [
    "soup.select('img')[0]"
   ]
  },
  {
   "cell_type": "code",
   "execution_count": 40,
   "metadata": {},
   "outputs": [
    {
     "output_type": "execute_result",
     "data": {
      "text/plain": [
       "[<img alt=\"\" class=\"thumbimage\" data-file-height=\"600\" data-file-width=\"800\" decoding=\"async\" height=\"165\" src=\"//upload.wikimedia.org/wikipedia/commons/thumb/6/6f/Kasparov_Magath_1985_Hamburg-2.png/220px-Kasparov_Magath_1985_Hamburg-2.png\" srcset=\"//upload.wikimedia.org/wikipedia/commons/thumb/6/6f/Kasparov_Magath_1985_Hamburg-2.png/330px-Kasparov_Magath_1985_Hamburg-2.png 1.5x, //upload.wikimedia.org/wikipedia/commons/thumb/6/6f/Kasparov_Magath_1985_Hamburg-2.png/440px-Kasparov_Magath_1985_Hamburg-2.png 2x\" width=\"220\"/>]"
      ]
     },
     "metadata": {},
     "execution_count": 40
    }
   ],
   "source": [
    "soup.select('.thumbimage')"
   ]
  },
  {
   "cell_type": "code",
   "execution_count": 41,
   "metadata": {},
   "outputs": [],
   "source": [
    "computer = soup.select(\".thumbimage\")[0]"
   ]
  },
  {
   "cell_type": "code",
   "execution_count": 42,
   "metadata": {},
   "outputs": [
    {
     "output_type": "execute_result",
     "data": {
      "text/plain": [
       "bs4.element.Tag"
      ]
     },
     "metadata": {},
     "execution_count": 42
    }
   ],
   "source": [
    "type(computer)"
   ]
  },
  {
   "cell_type": "code",
   "execution_count": 43,
   "metadata": {},
   "outputs": [
    {
     "output_type": "execute_result",
     "data": {
      "text/plain": [
       "'//upload.wikimedia.org/wikipedia/commons/thumb/6/6f/Kasparov_Magath_1985_Hamburg-2.png/220px-Kasparov_Magath_1985_Hamburg-2.png'"
      ]
     },
     "metadata": {},
     "execution_count": 43
    }
   ],
   "source": [
    "computer['src']"
   ]
  },
  {
   "source": [
    "<img src='//upload.wikimedia.org/wikipedia/commons/thumb/6/6f/Kasparov_Magath_1985_Hamburg-2.png/220px-Kasparov_Magath_1985_Hamburg-2.png'>"
   ],
   "cell_type": "markdown",
   "metadata": {}
  },
  {
   "cell_type": "code",
   "execution_count": 47,
   "metadata": {},
   "outputs": [],
   "source": [
    "image_link = requests.get('https://upload.wikimedia.org/wikipedia/commons/thumb/6/6f/Kasparov_Magath_1985_Hamburg-2.png/220px-Kasparov_Magath_1985_Hamburg-2.png')"
   ]
  },
  {
   "cell_type": "code",
   "execution_count": 48,
   "metadata": {},
   "outputs": [
    {
     "output_type": "execute_result",
     "data": {
      "text/plain": [
       "<Response [200]>"
      ]
     },
     "metadata": {},
     "execution_count": 48
    }
   ],
   "source": [
    "image_link"
   ]
  },
  {
   "cell_type": "code",
   "execution_count": 49,
   "metadata": {},
   "outputs": [
    {
     "output_type": "execute_result",
     "data": {
      "text/plain": [
       "\\xaeiR\\xacRp\\x94\\xd5\\x84\\xf5\\xfd1u39\\xa2\\xec\\xfe\\xa8\\xc1V\\xdc\\xff\\xff1\\x90\\x17]z\\xdd%&\\xe5\\x10\\xd3X\\x94*\\xe8\\xe4\\xb3,v\\x07t\\x8b\\x0e76\\xf7\\x92\\x11\\xab\\xc8h\\xa6v\\xd5>\\x10}\\x93:WIzE]Z[\\x84\\xe8\\xa8\\xc2\\x88{\\xf7\\xde\\xa4i\\xee\\xd2\\xedF\\xfaE\\x97\\xe04\\xf5\\xfe\\x88l\\xd0\\x10\\xbb\\x0ek*\\x063\\x19\\xbf\\xf7\\x0f^ \\x17?\\xe3\\xcf\\xfe\\xdd\\xcf9\\x7f\\xe9\\x12\\x97\\xce\\x9eeu\\xe58\\x9dN\\x87\\xe8:T\\x8cp\\xb5\\xe1\\xc5\\x9f\\xbd\\xce\\x89\\xc7\\xff\\x86\\x17~\\xef\\x18Z\\xcc\\xe1\\x9d\\xa5\\x1e_\\xc7\\x149\\xb5\\x1a\\xa3\\xf5\\xc3(Y\\xa4\\xb4\\xd8h1\\x07F\\xb7\\xb4\\x19\\xeb\\x8a\\x8d\\xad[\\xfc\\xe4\\xc5opve\\x95\\xb9\\xaee\\xfb\\x87\\xdf\\xa6h\\x1a\\x1e\\xfc\\xf4\\xc7\\xb9Yo1\\xb3\\xa2\\xb0\\xcc\\x10\\xcb>/<x\\x9c}3\\xa0\\xab=\\xbb\\xdb\\xefRYE\\xbf\\xbfL$G\\x88\\x8cS\\xab+|\\xe9w\\x7f\\x97\\x87\\x1f\\xff,yg.\\xb1L\\xa4G\\x85\\x0c\\xeb\\xf69}\\xf1a\\xec_\\xbd\\xca\\xfb\\xd7v\\xb8\\xfb\\xc16\\x8f<\\xa2\\x91Z\\xe0\\xac\\xc3\\xb9&\\xd9q\\xd0\\xa5\\xaf\\x97i\\xe25Dp\\x88X\\x11Brk\\xf3\\x01\\xa4\\x0b\\xc9\\x1f\\xa7\\xcd\\xda\\x96\\xa1U\\x9e\\x841q\\xf76\\xef_{\\x8d\\xd9\\x06\\x96.}!}\\xdc\\xd5\\x88h\\x91\\xd2\\'\\xee\\xafH\\x16\\xf4QE|H\\x8bg)#\\xde;\\xf6\\xb7\\xb7\\tE\\xc1\\xc0H\\x16\\xcf?\\xca\\xc9G>A\\xd6\\x99%\\x90\\xa3T\\xf7`\\x1eK\\x9d\\xdc\\xe1\\xd1\\x99:Y\\xa4*\\'\\xee\\xc3\\xb7\\xa7\\x8bu\\x1f\\xd2*+uo\\x16\\x1f\\xdb\\xbdr\\xd0x\\xd7\\xa0\\xef\\x9bi\\xeeC\\xee\\xd2^+\\nI\\x0c\\x96\\xe8\\x03uUb\\xa3;\\x02\\x9b\\'\\xcb3\\xe7<\\x06\\x01\\xa2!\\xe0\\xd1\\xb9!\\xf8\\x88\"\\xe2]\\x83T\\n\\xa9Rs\\xab\\xb5Jmch\\x17\\xb1m\\xeb\\xa0d2t\\x11\\xa4\\xcb\\x1b| \\xd8\\x80\\xd2\\xaa\\xcd\\x88k0\\xc1\\xb4\\xafc\\xbbt\\x06\\xbc\\xad\\xd8\\xdf\\xb9\\x93\\x1a\\xec\\xdfz\\x05\\x90f\\xbc\\x81Y@{\\xc3\\xa4q\\x18j\\x08\\x05\\xfd\\xbc\\xcb\\xac\\xca\\xd8\\xad\\xf6h\\xfc\\x84~\\xb6\\x08&\\xa7\\xa9\\xf6\\xdb\\xb6\\xc1\\xa3\\x85$\\x17Y;o&@I\\x88@\\x10\\x01\\x17\\x1c\\x83\\x85U\\x96\\x17\\xe6P1\\xcd\\xb7\\x82\\x0cI\\x0f\\xaf$\\n\\x8f\\x8c\\xd0\\x9d_\\xa4\\x08\\x92\\'\\x7f\\xe7\\t\\x1a\\xbd\\xc8\\x85G\\x9f\\xe2\\xd1K\\x17)\\xb2\\x92m\\x7f\\x1b!\\x04\\x9d\\xf9\\xb3|\\xe6\\xabO\\x93\\x9d\\xbc\\xc9\\xf9\\x07>F_\\x1eC\\x98\\x0e2N\\xb0\\xe3WQ\\xc1R\\xbau\\xeab\\x99A\\xff,2H\\x1c\\xcd\\xa1\\xf0V\\x80\\x08\\x9a\\\\w\\xe9\\xaa\\x0ew\\xae_g\\xbcv\\x9d\\x19]\\x13n\\xdd!_(p\\xe7\\x179\\xd1?\\x89\\x9fxf\\x8f\\x1d\\xa7\\x10\\x86j\\xb8G\\xb39b\\xd2\\xecr\\xf3\\xf6]f\\xe6\\xcf1;\\xbb\\xc2~\\xb9N7\\x18:y\\x86\\x92\\x05\\xbe\\x9d\\xb1\\x02\\xe0C\\xc0\\xfb\\x92\\xc9\\xfe=\\x86\\x9b7\\x11A0\\xdc\\x16\\xecoW\\xd4\\xcd\\x10\\xe1\\x02\\x93\\xf1]\\xf6w\\xd6YZ:\\x9f2\\x04\\xb4\\xc1\\xcb\\x9c(MR\\x0cXG\\xf0\\xb2\\xfd~\\xb6\\xa7,\\xca\\x83t\\xda\\xe8<\\xd26\\xe80\\xa1/v1\\xe3wa\\xf742\\x9bE\\x84Ik\\x1ad\\x111\\xad\\x9f\\xa6\\x83\\x83\\x14\\n!\\x15ZG\\x94\\x12\\xeco\\x8d0\\xdd\\x11\\x0f<\\xf2\\x10\\xc7\\xce=L\\xb1p\\x11\\xad{(R\\xf2Mr\\xf4\\x0bD%\\x0f\\xd8#\\x87\\xc0IBKB\\xbb\\xf2:\\x8c\\xd0\\x88\\xedeL\\x96\\xe6\\xde\\xd7X\\x97T!B\\x81\\x8a\\x8a\\xc6NZ\\xa6\\xc9}~\\x1e\\xf7\\x1fX!\\xd3\\xcc\\x13\\xbc\\xa3\\xaa\\xea\\xb4oh\\xbd+ho\\xbbR\\x1a\\xa3\\x0c\\xe0)\\xba&%\\x8d4)\\xa8B\\x90.\\xa4R\\x02\\xefl\\x9bU\\x90.\\xd7\\x94\\xcd!D\\xa2\\xde\\x08)q\\xce\\x11\\\\L\\xdftcZ\\xdfKG\\xf4\\x91@N\\xd9H&u\\xb2[8x$\\xc2\\xe4\\xb7`\\xffs\\x9fg\\x89\\x90\\x19\\xf3\\x9dYtc\\x89*g_8\\xee\\xec\\x8c\\xd8q\\xb0\\xebJ\\xa2m\\x08\\xc13j*\\x84\\xd0\\x80&\\x84\\x06L\\x83\\x90\\x91Bv\\xda\\x96[\\x82O\\xa1\\x8d\"@W\\xf7\\xe9\\xac<\\x81w\\x01%\\x14Q\\x91\\xac\\x07\\x83G\\xea\\x0eZfdUA\\xd1\\xdb\\x03[\\xf0\\xe0\\xef<\\xcec\\x9fYE\\x99>\\x8dtD\\xb7\\xcfx\\xaf\\xc4o\\x0b\\xac\\x9a\\xe5\\xe4\\xb3_\\xe6\\xf7?u\\x02\\xa3\\n\"\\x82 @\\xd8v\\xed\\xe2\"u5\\xa6?\\x80\\\\tAH\\x8cJ\\x92!%uz\\x95\\x85@\\xa8\\x8c\\xc5\\xa5\\x07\\xf8\\xc7\\xff\\xf4\\x9f\\xd1\\xd4C,\\x13\\x8a\\xd1\\x84Q\\xbd\\xce8\\x1bQL<Qw\\x18\\xb6d\\xdcPt\\xe8\\xccC\\x13\\x86\\xe4YM\\xaf\\x03\\xbe\\xd9g\\x7f\\xfb:k\\xe5\\x16\\xbf|\\xe92?\\xfc\\xc1\\xdf\\xa0\\x97\\x97x\\xfe\\xe3\\x9fA\\xab\\x0c\\xd3\\xe9Q\\xd7{\\\\}\\xeb\\x156o]a\\xe5D\\x8f\\xf1p\\x9f+W~\\xca\\xd3\\xdbO\\xa0M\\xc1\\xfe\\xddw\\xb8\\xfc\\xca\\x8b<\\xf5\\xfcW\\x10\\xbd\\x1c\\xe9\\xee\\xd1\\x8b\\xfbmdX\\x07\\xb0H\\x99%;Ad\\x9be\\x90@\\xf6\\x18b2\\xf6mj\\x9af\\x9f\\xc5\\xe3\\xcb\\xe4K\\x05M\\xbd\\x9eLWcI\\xe3\\xeb\\xf6lN\\xabN8pU\\xb319\\x15\\x98<\\xa3\\x1c\\xae#\\x07%\\x83\\x85\\x0b\\x0c\\x96/\\xd11\\xb3\\x08d\\xda\\xdbM\\xbb\\xb5_\\xe9\\x96\\xda1\\xa4\\xe5f\\xcav\\x01\\x10Zg\\x01\\xd1\\xba\\x03\\xc4\\x16tL\\n\\x81\\x06\\x1fj\\x8c28o!\\xd4\\xe86\\x7f\\xe9\\x88\\xbbN\\x1b3K\\xcb\\t\\x8b\\x1a\\x82L\\xaf:\\x06=}z\\xda\\xbd\\x98\\x0f\\x10\\x9c\\xc3\\xe4\\x16\\xeb}\\xcb\\x90\\x0f\\xa8L\\xd2\\x08\\x87\\x15\\x16k-\\xde\\t\\x04&!R\\xc1\\xa7\\xacfR\\x85\\xd4:]\\xc0\\x10Bb\\x0ch\\x81o<\\xcey\\x9a:$k4\\xe5h\\x9c\\xa3\\xb4\\x1d\\x9a \\x8e\\\\8\\xff\\x11\\xc0\\xc8o\\xa0xEOV\\x0c\\x98\\xeb\\xe7\\x14N\\xe0l\\x87\\x90\\x0b\\x9a0\\xc1\\xb7\\x11W\\xb1\\xae`\\xca\\x93s\\x13\\xd0*\\xc1\\xdc\\xc4\\x96N\\x14\\x0fhGb\\xca?E\\xb6\\x0bQ\\x81\\xc3&\\xcb\\x08)i\\xea\\x86\\xe1\\xf0\\x1eb\\xb8\\x93\\xf4|\\xb9F\\x991A\\r\\xa9\\'{Tc\\xc5\\xf2\\xe2\"\\xb9\\x9aa7\\x06\\x94\\xea\\xd1\\xed,\\x10\\xd4,\\x8d\\xea\\xd17]\\x86\\xdbk\\xd4\\x93Md\\x1e \\x0f\\x98,B\\xe9\\xe8\\xa8@l\\xf6\\xb1\\xae\"\\x93\\xc9\\xfd\\x0b)\\xd3,1%\\xdb\\x06\\xa8]\\x83mFxWQaq\\x12\\xfa\\xdd\\x15\\xaa\\x18p\\xd5\\xbd\\x04\\x9f\\xe9\\x82\\xda\\xe7\\xa8L\\xa1\\x9d%\\xd6c\\xe6\\xf2\\x0eE\\x1c3\\xde|\\x07?\\xdc\\xe4\\xad_\\xbc\\xc4\\x8f\\x7fp\\x85\\xab\\xefl\\xf0\\x7f\\xfc\\xf3\\xff\\x9d\\xe7\\x9e\\xf9\\x01/|\\xf6\\x93|\\xfew\\xffK\"\\x96w\\xdey\\x8b\\xbd\\xad\\x06o\\x03\\xb3s\\x86\\'\\x9f|\\x98\\xc2dX\\xbf\\xc7d}\\x8f\\xcb/\\xbe\\xce\\xf9\\xb3\\x1f\\xe3\\xcc\\x13\\x8f\\xd2\\x8c\\xe7Q!\\xe0\\x19\\xa5y\\xc7;\\xb4)\\x12yY(\\x94H\\x81\\x84!\\x04\\x82m\\x08\\xae\\xa1)w\\xb1\\x08\\x96W\\xce\\x12\\x8b\\x0e\\xc1\\xed!C\\x8e\\x90\\x01\\xa1dJ(\\xb2MzV\\xa5L\\xd6\\x15A\"\\xbdE\\tG&==\\xad8\\xbez\\x8a\\x85c\\'\\xc8Lk\\x82\\x14\\x1dJ\\xa5\\xb5W\\n\\xaf\\xe1\\x80#\\x99\\xd6,1I\\xc1\\x8e\\x16\\xa4\\x98P\\xfb\\x04\\xa4\\xa6\\xdd\\xb1\\x8c\\x89\\xd2(\\xd1\\xc4\\x08\\x8d\\xafPq&\\xb5\\x99\\xe5\\x18\\r>\\x10[ZB\\x8c\\tV\\x9f\\xc6\\x04C\\xb2\\xa3\\x8e\\xa9\\xb5KUL\\x1c\\xee\\xe8\\xda\\xd0\\xf74\\x83E\\x94\\xd1\\x08\\xa5\\x0f\\x13K\\x05\\xd4\\xce\\xa6\\x98!)\\xf1v\\xba\\x83S\\xc8\\x16\\xd1\\t\\xad\\x16JI\\x89\\x8f\\xc9HH\\x90 \\xd5\\x10\\x03\\xa8\\xf4zH/i\\\\\\xa4\\xb1\\xc97%9%\\x1f\\xa5\\xafE\\xee\\xdfL\\xc6\\xbfS\\xeb\\x96u\\xba\\x94\\xc1\\xb2\\xe1\\r.d\\xec\\x8d*&u@\\x99\\x1cWnA6\\x00?F\\xe1\\x11\\xda\\xe0|\\x8d\\xd0\\x06\\\\\\x82\\xb1\\x95j\\x0fu\\x0c\\xed\\xa7\\x90\\xe8DI\\xff$\\x01K\\xd3\\x8c\\xc9dN=\\x1a3\\xbaw\\x97\\xf1\\xd5\\x9f\\x13h\\xe8\\x9cX\\xa4;\\xaf\\x90f\\x17_\\xd5L\\xf6\\x1d\\xddl\\x81\\xce`\\x06?\\xb9AdL\\xe8d`+ly\\x17\\xafg\\x99l]\\xe7\\xee\\xcd\\xd7\\x19\\xac\\x14t\\x8e\\x1f\\xc3d\\x15\\xd4%F\\x06\\xca\\xf2\\x16!_`y\\xe6|\\x0b\\x14\\xc8\\xd6Z<\\x85Qz\"[\\xf7\\xae1\\xb9\\xf3:\\xb1\\xaa\\x19\\xd9\\x11a<d\\xbe\\x90\\xcc\\x9d/\\xa8\\xe3\\x84\\x8e\\xbf\\x88\\xa1\\xdb\\xb2\\xe4\"A\\x18\\\\]\\x12\\x9c\\xc4\\xbb\\r\\x9az\\x88t\\xd0\\x0c\\xc7\\x8c7\\xb7(T\\xc1h\\xaf\\xe6{\\xdf\\xf8\\x16K\\x9d\\xc8\\xa7?\\xff\\x05T&Y>\\xb6\\xc0\\xe2\\xb1\\x1e\\xb7\\xb7F\\xb8\\xa6A\\x88\\x19\\xba\"\\xf2\\xfa\\xcf_\\xe7_\\xff\\xc9\\xb7\\xb8sm\\x83\\xfe\\xdc\\x8f\\xf9\\x83\\x87\\x1f!\\x0e\\x16\\xc0\\xee\\xa1\\xdc\\x08c\\x1b\\xbc\\x03!k\\x105^\\xe6\\xd8\\xa8\\x91b\\x82\\xc2\\xa2\\x19\\x11\\xdd.\\xc4=\\xcc\\xd2*~\\xb0\\x88h<4[X#\\xd1\\xd9\\x1cB\\xe5\\xd0\"\\xe1Q\\x80Pi\\x07\\xa6\\x90\\t\\x84\\x13\\x90\\xe5\\x92\\x07\\xce\\x9d\\xe3\\xe4\\xe3O@\\x96c}\\n\\x94\\x94\\xf2\\xf0\\xa1\\x16\\x82v\\\\8T\\tpd\\x9d}4\\x1dW\\x1c\\x18\\x17\\x87DC$\\xb4\\xca\\x89\\xd6Y\\xce\\xfb\\x94\\x14\\x14k\\x9c\\x1b\\xa1\\x11F\\x1fl\\xfa\\xe4\\x87\\x0b^\\xdb\\x97\\xb6dM\\x87o\\x17\\x92-\\xce\\x12\\xe3\\x01\\x8dJ\\xc9d\\xf6\\x8a\\x90h\\x93\\x96\\x88\\xb5mZ9\\x8eLJ\\\\\\x91\\xc2\\x15\\x11\"\\xbd \\xc4\\x84\\x821\\xb5\\xb5N\\xe8c\\x08i\\xd5\\xd0\\x04O\\x8c\\x12\\x17<\\xc2\\xc7\\xd6\\x17\\xa4!Jq\\x886\\xdew\\xc9\\x14\\x87\\xa8\\xebG]6q`^S\\xd5\\x8ek\\xdb\\xbb\\xa9\\x1f\\x8f!\\r\\xc1\\xaa\\x87p\\x13\\xa4)\\x902\\xbdX\\x85Q\\xe4\\xbd\\xe3lo\\xde@\\nM\\x8e\\xc6x\\xdf^\\xac#sc\\x0biGDB\\xb8\\xb4D\\x88\\x9c<\\x1f\\x90u<\\xc7\\xce<J\\xff\\xec\\x93\\xd8PS\\xfb;T\\xe37\\xb0\\xd5\\x04S\\xacpr\\xf5\\x12e]q\\xf7\\xda\\xcfY\\xeaW\\xc8\\x0c\\x9c\\x99M\\xea\\xe8\\xdd\\xb7\\xd8\\xdd\\xdeCw\\x06\\\\\\xf8\\xf8\\xa7)\\xe3\\x84\\xc6\\xee\\xe2\\x9d \\xc4\\x11Z\\xcc\\x90)E\\xb5{\\x97\\xbb;\\xeb@\\x8eW \\xc9S.6\\xe0}\\xc3L\\xb7`\\xf6\\xd2gP.\\xe5\\xb9\\xb9\\xe8\\x10q\\x17[\\xbdG\\xa8-*+\\xc8b\\x07\\xef\\xf6\\t\\xbe!t\\xfb\\xa8 \\x991]\\x8andk\\xd3\\x12\\x84\\xe2K_\\xfd:\\xcf\\x7f\\xf9\\x9fP\\xfb\\x88\\x18W|\\xfb\\xdf\\xfe)\\x8f\\\\:\\x8d\\xad\\xd6\\xd8\\xb8\\xb9\\xc3\\xf1\\xb9\\x9c?\\xfa\\xfag9\\xf7\\xf2\\xbb\\xfc\\xa7o\\xfd\\x94\\x7f\\xffg\\xdf\\xe4\\x83\\xf7\\xaf\\xf0\\xf6\\xe5\\xf7x\\xf1\\xd5\\xab(W3\\xa9\\xb7\\xf0\\xbe&3\\xc7\\xf0b\\x87\\xed\\xa1 \\x96\\x01\\xea\\x86\\xee@\\x93+\\x83o\\xdf\\xfc\\x10\\x00\\xefQ\\xd6\\x13|\\xc0\\xe4\\xc7\\x90y\\x1f\\x1fS\\x8a\\xaa\\xf3\\x82\\xdc\\xfb\\x14\\x83\\xcc\\xd4%\\xe0HuR\\x12\\xa1LK\\\\\\x8c\\xac\\x9e~\\x80\\xf3\\xf3\\x8fbV\\xceB\\xd6M\\xe6\\xd9\\xde\\xb7\\xa8\\xb5I\\xab\\x80\\xd8\\xae$\\xa61l\\xf1P`:\\x9d\\xd7\\xa6\\x7f\\x7f\\x8c\\x89P\\x16BB*\\xa7\\xc6\\xc6\\xa1M\\x07\\x0e\\xde\\xe1|\\xca\\xd2s\\xcd\\x10\\x9d`\\xc6#\\xf3\\xcd\\xd4[\\x7fz\\xe9\\xa4n\\xd9\\xcf.\\x1d\\xf40\\x9d\\x1c}[\\xe1\\x02\\xde\\x07\\xb4\\xc9\\x10\\x1a\\x8an\\x8f\\xa2(\\xa8\\xab*\\xcdd\\xbe\\xc16\\x0e\\xefuJ\\x9c\\x89\\x11\\xa3\\x04A\\n\\x08i\\x11;E\\xd4\\\\;\\xf4\\xf9\\x18h\\xac\\xc7yG\\xf0\\x8a\\xe0\"\\x99L\\xb6\\xe3\\xdeO\\xd3H\\xc3\\xaf\\xf7*i\\xd91\\xbf\\xbaZl\\x15\\x00h\\xac\\x0bXW\\x1f\\xf8\\xa0\\x08i\\x925\\\\\\xd6a\\xb6\\xbb\\x80w\\x82\\xbdf\\x0f\\xeb#\\xa2.\\xdb\\x0b^\\x11\\xe91\\x11\\x11\\xa7@j\\xdd\\x12\\xb4A\\xca\\x90\\xa0\\xe2\\x90r\\xedBl\\x89\\xd7Q u\\xf2y\\xb41\"\\xc8Qj\\x01\\xa9\\xfa)4%&V\\xbc\\x14\\x1e\\xe5k\\\\(\\x13R+\\x81\"B\\xb5\\xc9po\\x03\\xa5\\x9f\\xa0\\xc8O1\\x1b\\xfa(\\xa9qq\\x87I\\x1c\\xe1]Ao\\xa6\\x87\\x0f\\x9a\\xbd;\\xdb(\\x07J\\x82\\xcf$\\xc2$\\xbf\\xcb\\xe0<\\x83l\\x99~\\xf1\\x00Y\\xe8\\x91\\x89\\x82 \\x14\\xe3\\xe6\\x16Vl\\xe0\\xc3>%\\x96\\x10\\xc6\\x84\\xf1.Y\\xa6\\xe8\\xf7;\\x8c\\x9b\\x92r\\\\\\x91\\xd1#L\\x12\\xd837\\xb7@wp\\x96\\xe0+t=f\\xf5\\xe2\\x19B\\x94l\\xdd\\xba\\xc6O\\x7f\\xf8=\\xb28\\xe2\\xd6\\xdau\\xb6\\xebE0\\x0f\\xf0\\xa3\\x1f\\xdd\\xe4\\xc5\\x97obC\\x8d\\x15]\\x8e\\xcfi~\\xe7\\x93\\xcfQ\\x95c\\xfa\\xb3]\\xcc\\xfc\\x83H\\x11\\x88\\xf5\\x1e\\xa2\\x1e\\xe2c\\x89W\\x9d)1\\n-\\xd2\\x88\\x13B@!P\\xd9\\x80 4M]a\\'uJ<\\xb2\\x0e\\xb2\\xe4\\xc5C\\xab0\\x11\\x02B\\xab\\x0eMpA\\x1a\\x15\\x06\\xbd\\x0e\\xd9l\\x9f*\\x06\\x94\\xaf\\xb0B!E\\x96\\xf6\\x96\\xe2P\\xb1=\\xc5\\x15>\\xdcD\\x85#\\x84\\x8aC\\x05x\\x12\\x98\\xba0\\xbdl\\xfe`-\\x90\\x1c\\xba-1T87F\\xa3\\npU[\\xdd\\x8e:\\x18\\xcb\\xc3a\\xb0Ez|p\\xf8x\\xa4\\x82\\x88d{\\x8eK\\x03\\xa9\\xca\\x15y\\xc7\\xa4]\\x12\\x01\\xe7\"\\x02\\xd3\\xb2\\x1e\\xd27P)\\x8dc\\x9a;\\x97\\xe6)\\xd1^\\x10\\xd1^v\\x85\\xc6\\x08\\x8d\\x8f\\x13\\xb4TD\\x13\\x13\\xca\\x19\\xf3D\\x0c\\xf5u\\xca\\x04\\x10G\\xd8#\\xe2\\x88\\x89k\\xfc5^&\\xed%\\xcd\\xb39\\xb41\\x899\\xe0\\x04(\\x85\\x8d)\\xf8\\xbciF\\xec\\xd9\\xe4#\\x19\\x82\\xc3\\xc6\\x1cW\\x0f\\x0f\\xbe\\x1f>H\\x9a\\xe0\\xf1q\\n\\x04\\xb6\\x14\\xa2\\xe9\\xd7\\xd8J\\nE\\x90mk\\x19\\x11\\xa1f\\xb4\\xb9\\xc6\\xd5\\xf7~N\\x085\\xcb\\xa7\\x8e\\xd3\\x9f\\r\\xe4f\\x8e\\xd8\\x8c\\xb9\\xf1\\xe6\\xf7\\x89\\xf9IN?\\xf2)\\xa8nQ\\x8d\\xdf\\xa2\\xf6\\xf70\\xb2@\\x9b\\x05\\x8aS=z\\x9d\\x017\\xdez\\x99fg\\x9d\\xe5\\xe59\\x063\\x15F\\x82\\x92\\r\\xfb{\\x1fPr\\x8c\\xd5sOb\\x8a\\x192\\xddM\\xd5!\\xfa\\xb6\\xa0KB\\xa8\\xd9\\xb9\\xfb\\x1e\\xb7\\xee\\xde\\xc26{\\xe4}\\xc1\\xfc\\xa9s\\x08\\x93c:]<\\x91\\x18,\\x82\\x1a|\\x87jl\\xa9&%\\xe3\\xfd[\\xf8v\\x06q\\x1e\\xdez\\xe5\\xdbL\\xc6\\x92Q\\xe3)m\\xc6\\x8f^~\\x93+W\\xde\\xe3\\xf4\\xf1\\x82\\xa7.\\x9d\\xe5\\x1f\\xfd\\xf7\\xff\\x84\\x9f\\xfd\\xf2\\x1d\\xfe\\xc5\\xbf\\xf83\\xd6wv\\t2P\\xd5\\x86,K(aa\\x043s\\xcb\\xe9Q\\x9e\\xec\\xd1\\x19\\x9c@\\xcd]\\xc0\\xdb}\\x14\\x15\\xc2o\\xe3\\x9a\\x1d\\x8aX\\xb7\\x15c\\x9aP\\xdb\\x9ex\\x1f\\x88\\xb1&\\xd8\\x06e+d\\x08\\x07\\x0c\\xc6\\xe8\\xd3>/\\xa4\\xaf&]\\x87\\x90\\x88\\xe5x\\x88\\xb6\\xa1\\x89CDg\\x04\\x0c\\x13E\"(\\xf2\\xfc\\x90\\x0ew\\xd8\\xb3\\xc4#:\\xb8#[\\xdcx(>\\x9e\\xba\\xc3%\\x97\\xb0T\\xd5\\\\\\xbb\\n\\xf0\\xa1B\\xba\\x9a,:D\\xb4\\xa8\\xc6\\xa3\\x9a\\x11\\xfa@\\xca\"\\xcc\\x81\\xba9\\xd5\\xe2.\\x04\\x95\\xf8\\xcdH\\xb2h\\xda&\\xca\\xdd\\x0fN\\x04Ot\\x11%\\x152St;\\x1a\\xef\\x93\\x86\\xce(\\x83\\x8f.i\\x82\\x08\\xe8\\x94\\xb5\\x8as\\xfe>_-\\xad\\xd4\\xc1\\x8a\\xc0\\xbbp\\xf0\\xcd\\x95B\\x1d\\x0c\\xa4B\\x04\\x9cK$\\xe7\\x83\\x00\\x8e\\xdf(\\xb5\\x89\\xbf\\x822i3\\xe0\\xdc\\xc2i\\xfa\\xb2Jm@(\\xd8\\xb3\\r\\xfb\\xa1\\xa4\\x0c\\x13\\xaaf\\x82\\x0b\\xb6\\xbd\\x9b\\x91\\xe8\\xca\\xb4\\x82\\xd0}\\x94\\xd0(!\\t\\xf7\\xdd\\xefC\\x03\\x998\\x15)FZ+\\xf4)z%\\xe8u\\xbb<x\\xee\\xe3\\xb8\\xd0 \\xbacPwQ>)+\\x8e\\x9fX\\xa1\\x14\\x0bT\\xf5\\x84\\xbeW\\x0c\\xc4\\x1c\\xca\\x8f\\tAb\\xba9\\xc1\\x0b\\xc2x\\xc2\\xe2\\xdc\\x00\\xdf\\x93\\xa8\\xdc\\xd0\\xa8\\n\\x15=J:d\\xed\\xc9\\xe2\\x00\\xe5\\xbbI6\\xe4\\x02&f\\xc9k\\xa4\\xe5\\xf9\\xc5h1F\\xd3\\xed\\x15\\xb8\\xbcAu#R\\x96x\\x9ftjR\\x8a\\xc4l\\x0f\\xed\\xb2I\\x17\\xa8\\xbc\\x03\\x12\\xbc\\x04a\\n `\\nC\\xee\\xe1\\xce\\xfaM~\\xfc\\xe2/\\xd9\\xd9\\xa8\\xd9Z\\xb7\\xe8 y\\xf0\\xc1\\x8c]/\\xb8\\xf4\\xc4\\xb3\\xfc\\xaf\\xff\\xd4p\\xf3\\xf6\\xdbL\\xca\\x8a\\xd7_\\xbb\\xc1[\\xef\\xdd\\xa533C\\xb9\\x7f\\x87_\\xbe\\xfe:\\x0f<\\xf6\\x08U\\xb9\\xc3$\\x9b%\\xcf\\xe6\\x98\\xc4\\xc8\\xc4yt0\\x14V\\xb4\\xf0\\xba\\xc3\\xdb\\t\\xd2M \\xd4\\xc8\\x18\\xb0ME\\xf0\\r*\\xd4\\x88\\xa6\\xc4\\xc7\\x1aa\\x87\\x84\\xd0\\xc1\\xc5\\xe4\"\\xa2d{\\x01D\\x00\\x99 |B2\\xc5\\x1d\\xaf_!4\\x12q\\x1a\\x84,\\x88\\xb2A\\x85\\x8a,&\\xb0&\\xb6\\rRR\\x80\\x88\\xfbZ\\xc9\\xe9B\\\\\\x1c\\xb8\\xe7\\xb4N\\xd3\\xa45V\\x14\\x11\\x17\\x1c>X\\xa2\\xf0\\x08\\xe1\\x88\\xce\\x12\\x83EzO]\\x96h\\xdc\\xb8\\x05B\\xdc\\xe1,r\\x80R\\xaa\\x96\\xc2\"\\x0e(+\\xe2\\x08\\xa0)$\\xe4\\x83y|\\x08(\\x99#U\\xab* \\xb6A\\x88i>\\x92R\\xa2\\x94\\xc46\\x0e)u\\x8bNNI\\xc0\\x1a!#b\\x1aSt\\xc4\\xe9N)\\xd5\\x92\\x85\\x05\\xbe\\t\\xed\\xfem\\x9av\\xa3\\x8f\\xac1\\x8eV4\\xf9\\xeb\\x17\\xdf1\\x92\\x9b>\\xcbENAE\\x8c\\x06\\xe9a\\xa0\\x15;\\xb1\\xc3F\\xed1Y\\xc6\\xd8Y\\xecdr\\xd8Z+\\x05R\\x1fd\\x9c\\xa3\\xe4A\\x8f\\x9e\\xc4\\x89GBz\\x0eG\\xefv\\x9e\\x90\\x98\\xac\\x8f\\x8f\\x91\\xb9\\xa5\\x05j\\xf6\\xd9\\xdb\\x7f\\x031\\x8e(\\x1b\\x98\\xd8\\x11f\\xe9\\x19\\x16g.r\\xf3\\xdd\\xbfek\\xe7=\\xfa\\x99F\\xc8\\x9a|\\xd6\\xe0\\xdd\\rD\\xe5\\xb9\\xbe\\x96q\\xf2\\xec\\x178\\xfe\\xc0g\\xa8\\x18\\xb3?\\xba\\x8c+=4\\xdbh\\x04j\\xb0\\x8c+\\x87\\xdc\\xbc\\xfc\\n4\\xfbH\\xa5\\xf04H\\x99\\x11}C\\xdd\\xec1\\xb3\\xf2\\x10g/|\\x1ct\\x07\\x1fa\\\\\\xdf\\xc25c\\x9cWd\\xaa\\x8b\\xd0\\x1d\\xc6Bb0\\xccw:\\xc4\\x859\\x8c_\\xa0\\xdf_\\xc4W\\x15C[\\xb2t\\xe61:\\x8bg\\x98\\xdf\\xbe\\xc6\\xdbw\\xd7Y\\xdfz\\x9b\\xf9\\xbef{\\xb3\\xe2\\xe6\\xed-v\\xee\\xbe\\xc7\\x8d\\xf7\\xdfao\\xedf\\n\\xeb\\x88\\r3yEo!2\\xb3Z\\xb1\\x92w\\xc9\\x96\\x03B9:\\xa6\\xcb\\xde\\xf0\\x16\\x0b\\xb3\\xabhi\\xb0hL\\x00\\xe5\\x02Q\\x80\\x8f\\x82\\x18\\xd2\\x0c$|\\x85\\x08!\\x99\\xd7\\xba\\n\\xe9K\\x82\\xad\\xa9\\x1bKn\\xdd\\x01\\xc7jj F\\x10\\xad\\xbd\\xbeD\\xba\\x80\\x1d\\xd7\\xb8\\xd2\\xa2\\xa3!Tc4\\xad\\xccL@$\\xdcwZ|hwlR|\\xe8\\x19\\x17\\x07\\xd5\\xef\\x00@\\x89S\\xa0E\\x1c\\xac!\\x92\\x0e.\\x85\\x84D\\x1c\\xa1\\x99 \\x9a\\tu9B\\x1f\\x90\\xd8\\xa2m\\xb9W\\xfap\\x96\\x93\\xd9\\xc1\\x05\\x8bQ\\xb4\\xb2\\x9b#R\\x16\\xa10\\xc5\\xe0\\xe0cZk\\xb4\\x92\\x94eM\\xe3,\\xce5\\xc9\\xdf\\xd25\\t\\x8b\\x11\\xd3J\\x96>y?m\\x07d\\xc4\\xbb\\xc4\\x9b\\x8c!E\\xc0B\\xe2c\\xd6M\\x9d\\x02\\xee\\x13C:\\x1d\\xf8\\x10>\\x82\\x15\\xf3Q\\xea@~\\xc5\\xe7$7\\n\\x19,>D*!Q\\xd1a\\xb4c\\x80&\\xc4\\x0e\\xfbM\\r\\xa1\\xa4V\\x82\\xcaO\\x01\\x90\\x0c\\x17\\x13\\xb1Z\\xb6\\n\\xf8\\xe8\\x13\\x05\\xed\\xc3\\xf7:\\xb4\\x17\\xb0\\x9d\\xa4\\x89\\xed\\xfa\\xa2\\xb6#n\\xde\\xbeImo#\\xd4.\\xdd,\\xe2\\nItC&\\xb7\\x7f\\x8e\\xd8v,-\\x9cA\\xae\\x9cC\\tO\\xdd\\xdc\\xc2\\xbb\\r\\xa4\\xb2\\xa8\\xbef\\xe9\\xcc,\\xba3\\xc3\\xee\\xf6\\x1a\\xb5\\xdbDt;\\xb8\\xee\\x05\\x1c\\x19\\xdaM\\x10X\\\\\\xbc\\xcb\\xa9Sg\\x11Q%:\\x97\\xb2H\\x99\\x83kh\\xfc\\x1a\\xb5\\x9ec\\xd4\\x00\\xa3u:~\\x84\\x11\\x13lp\\x08\\x0b*+\\x88\\xf4\\xe8\\xcd\\xae\\xa2\\xc4\\x80(2\\xbc(\\xc8\\xba\\xabH3C\\x14\\x13\\xac\\xf5\\x0cCC\\xb5}\\x87\\xced\\xc2\\x1f~\\xe1s\\xac=\\xfe0\\xd7\\xeen\\xf0\\x8do\\xfc-wnm\\xf3\\xeaK\\xbf\\xe4\\xdc\\x85\\x19N\\x9f\\xfb\\x14\\xaaY`8\\xdc\\xe6^\\xfdc\\xfa\\xca38\\x95\\xd3\\xed\\x1a6\\x9a\\x0f\\xb8\\xb9\\xf16\\x0f\\x9e\\xfe,\\x95\\x1d2\\xb2\\x1b\\xcct\\x8e\\x13\\xc2\\x80Xm\\xe0c\\x82\\xf0\\xf1m\\x08d\\xdaP\\xe1j\\x8b\\xb7\\x0e\\xe9\\x1b\\\\S\\xd3\\x8c+\\xaaFRX\\x90!-\\xdf\\x13.\\xd0\\xea*\\x959\\x18AbU\\xa7\\xbcm]\\x90\\x19\\x8d1\\x0323Of\\xe6P\"G\\t}P\\xbdh\\xad\\xf0>\\n\\xdd\\x9e>\\xa6>\\x1e\\xe6\\x9c\\x8b)l\\xe0Zt3L\\xd9X\\xa9z\\xc4P\\xe1\\xed\\x98\\xaa\\x1c\\xa2\\xdb+~\\x18X8]Fk\\xd3\\x16\\x90t\\xb8C\\x10\\x07\\xafx\\x0b\\x03\\x11C`\\xb8~\\x83p\\xf1\\x12\\xdad\\x18c\\x92\\x9c\\xc6\\xb7\\xd9_B\\xb4\\xd5-\\xd9\\xa4G\"\\xde\\x87\\x03\\x17\\xbb)%,z\\xdaO>\\x05\\x16\\x82o9\\x80\\xe1\\x80i\\xed0\\xd8(Z\\xc6\\x97\\xbb\\xdf\\x06\\xe1#\\x85\\xa4G/[\\xdb\\x04H\\x89\\x10\\x8e\\xbdz\\xc4\\xac*\\xa8\\xa2\\xc5EO\\x81\\xa1i,\\xb9T,\\x99\\x1e\\xf3\\xa6\\xc3z3\\xa1j\\x1a2\\xdd\\xa3\\xe8u\\xd9\\x9fT\\x07\\xf3\\x99jE\\x87Z\\x98\\x16\\xa4=r\\xa9\\xe3\\xa1\\xf7\\x85\\xa4\\xdd\\xc9\\x08\\x81\\xabk\\x867\\xdfc\\xb4\\xf3\\x16KgW\\x10\\xc7\\x8ea\\xa3\\xa2\\xa73\\xd6v/\\xb3~g\\x9b\\xf3\\x8f\\xfdCz\\xc7\\xceS\\x86=\\xfch\\x0f\\xedJd\\x1cQ7c\\xe6\\x8bK\\xcce\\xcb\\xbcq\\xf5;\\x94\\xc3\\x9b<p\\xf6Q\\x8a\\x85\\x0eUg\\x96zb\\xc9\\xf6\\xdecw2\\xcf\\xc9\\xf3\\x9f\\xa2\\xe8\\xac\\xe0\\x88x\\xe5PBc\\xeb\\x11~\\x02\\xf3E\\x17?\\xd9\\xe1\\xc6\\xdb/\\x93W{tf\\x06\\xd4jL$\\xd0-\\x14\\xdd\\xee<\\xd2\\xf4\\x91d\\x18\\xa3\\xf1\\xa2C\\x9e\\xcf\\xa3U\\x97\\xa6\\xde\\xc4\\xe0\\xe8\\r4;\\xb7\\xef\\xf0\\xc6O_\\xc5\\xefo\\xb25\\xbe\\xc3D\\xf5\\x98[\\x98\\xe1\\x9d77\\xf9w\\x7f\\xfa\\x03\\xfe\\xa7\\xff\\xe5\\x1f\\xf1\\xc9\\xbf\\xff\\x8f\\xc9b\\x97\\x9b\\xeb\\xaf\\xe3\\xae\\xbe\\x81k\\xd6\\x18\\xcb\\x86\\xd2\\x8f\\xd9\\xbd\\xb7\\xc1\\xd2\\xbb?\\xe3\\xf4\\xea\\xd3\\x0c\\xbaK\\xec\\x8c\\xd7\\xe8\\xe8\\x9aLw\\xa9\\xa3L+\\x98V\\x86\\x13\\x9d\\'\\x06O\\xf4\\x01o\\x1d\\x84\\x14(c\\xab\\x9ar\\xb4O\\xe3;\\xd8\\xca\\x92\\x87\\xc3\\xf3\\x94<DS\\x85KYs\\x15\\xc8H1?O\\x909\\xc2(\\\\\\x18\\x13\\xec>N\\x82\\x11]4\\x06#3T[\\xbb\\xa6#\\x0e\\xad\\xe2|\\xba\\x1a\\xb8\\x7f\\r\\xd5\\n\\x0b\\xe2\\xd4\\xf6*\\x1c\\x10\\xc6Cp\\xc9\\x82\\x01\\x95\\xa2\\xd7\\xbc\\xc3\\xd6\\xf5T\\xf1\\x1dS\\xfd\\x14\\xea`\\x86\\x93\\xe9d\\xb5\\xd6\\xd2>\\xed\\xc6\\xbco\\t\\x9dm9\\x8eI\\xb3\\x10\\x9c\\xa7(r\\xa4Q8\\x17[\\x99\\xbbD+M\\xe9\\xcav\\x03\\x9f>S\\xa5\\xdb\\x18\\xe3\\x90\\xec\\xe5\\xbc\\xf3\\xf8&\\xb5n\"\\xaa\\x03\\xc7\\x08\\xdf\\xb6ki~\\x03\\x1f%\\x95k[\\x8a\\x83e\\xb78D$?R\\x92s\\xbf\\xa9\\x90\\x90\\x19^\\x1av\\xea\\x06\\'\\x14V\\x06lp4R\\xe2]D\\xea\\x98\\x06o9\\xb5?K!\\x94\\xc1\\xb6\\xb3\\x10\\x89\\xfb)D\\xab\\xf2\\xfd\\xd0\\xeaa\\x8a\\xb6\\n\\xa6Db\\x05Q\\xa00\\xf4\\xf29\\xe6\\x1f\\xfb$\\xb5\\x7f\\x902l\"\\xa4 \\x0b\\x82\\xd0U,]\\xfc<\\x0ft\\xcf1\\n\\x8a{\\x1f\\xbcH\\x97\\t\\xdaTd\\x83\\x1c\\x8b \\xd6\\xdbL\\xc6\\xaf\\xe1\\xc6\\x8e\\x87\\xce=O%\\x9fa\\x1cG4vL\\x16%\\xa1)\\xe8\\xe6\\xcbd\\x83\\x05J\\xbb\\xcb\\xfe\\xf8\\x16\\xa2\\xf2\\xf4z\\x1d&\\xd6\\x92IK6\\xba\\x82kj\\x8a\\xb9\\x8b\\x9cz\\xe8\\x14B=N&s\\x82\\xdb\\xa2\\xac\\xf6\\xf0\\xca\\x90\\xa9.\\xb3\\xc5\\xe0@\\xc7\\xd5\\xed\\xcc\\x13\\xf0\\xc8\\x98\\x11K\\x85\\xad6(\\xd7\\xd6\\x99-\\xfa<\\xfd\\xa5\\xaf #\\xdc\\xbb\\xf6\\x0e\\xdf\\xfe\\xce\\xf7\\xe8\\xf5\\x05\\xbd\\x19\\x89\\x0c\\x1d\\xba\\xf9<\\xc3\\x9d\\x1d\\xf6\\xb7\\xafp\\xf9\\x9d\\xbf\\xe1\\xe5\\x1f\\xbeD\\xd9\\x85N\\xcc0\\x1dG\\xd64\\xac\\xaf\\xddas\\xf3\\x06\\xe7O]\\xa42\\x13F\\x93\\x1d\\xe6\\x06\\xab\\x08\\x99\\xaaRt%\\x11\\x8d\\x8a\\xc9\\x80Ux\\xd0B\\x10\\x9a1\\xd5x\\x8b\\xe1h\\x9f\\xaa\\x89\\xcc,\\x9e\\xa47\\xbf\\x82\\xd1\\x05\\xae\\x99$\\xbb\\xbd\\xa0\\x0eg.\\x99\\xe8\\xc2A8T\\x8c\\xa8\\xc2$\\x1df=D\\x15%!\\x16\\x08\\xbaH\\x14\"\\xaa\\xa4\\x96\\x17i\\x97\\xeabR\\x8f+\\x91*\\x9a\\x98n\\n\\xe2\\x94\\xd6\\xd5\\xd2\\x96EL\\x9e)\\xa2N\\x17\\xd0K\\x82M\\xb6\\xeb\\xd2%\\x9bH\\x11\\x1atTm\\x85\\x9b\\x12\\x11\\xe3\\x91\\x00\\xc3\\x96\\xdd\\x1c\\x9c%F\\x97\\xf4JR%\\x9d\\xd2AeIC\\x97w\\xc9\\x13^\\x9b\\xac5\\xd3\\xa1\\x8d\\x94j\\x07O\\x99r\\xd1dl\\xc91-\\x97R\\xb4\\x82N-\\x93\\xf1k\\x08\\x1e%s,\\x81\\xe0\\xd3\\xc6\\xc2\\xf9d\\x93w\\xd85\\x07\\x0e\\x9f\\x9c\\xdf\\xd6\\xfa\\xae\\x05@dN\\xed%\\xbb\\xc12\\x99\\xf6\\xde\\x11\\x8cr\\xed\\x0f5\"\\x95\"x\\x8f\\x97*Is\")\\x0e+\\xa6=M\\x129\\xa6\\xe5\\xb2\\x881Y\\x00\\xb6/*mn\\xb8o\\xdb\\xca\\xd8.?Ek\\xdbN\\xdeI\\xf0s\\xd3\\xa0\\xbc\\x87X\\xe3\\xd5\\x04\\x1b\\x15*\\n\\x94\\xb4\\x8cv\\xd7\\xf0\\xa1\\xa2\\xbf\\x90S\\xeeU\\xe8,i\\xba\\xeaz\\x9d\\xcd\\xa1A\\xf4\\x1f\\xa2?{\\x82\\xe8GT\\xd56\\x84.R.b\\xe9 \\xbb\\x1d\\xe2d\\x8b\\xdbo|\\x9f\\xdbW.\\xf3\\xcc\\xf3\\x9f\\xc2KA\\xae\\x1a2\\xeea]N3\\x1a\\x90-\\x1c\\xc7\\xe4\\x05y\\xbeBmeZtg=\\x9c\\xf6tM\\x96\\x8eQl\\xdd\\xb6\\x85\\xc0\\x85\\x06\\x19-\\x83\\xac\\xcb\\xcd\\x0fnc\\xc3\\x88\\xb3O\\x9f\\xa5;\\x98\\xe7\\xe4`\\x96\\xe2\\xe5\\xcb\\xd8\\x9bk\\xf4z\\x9e\\xe5\\x85c\\\\|\\xe8\\x02\\x84Mn\\xbf\\xfd\\x12\\xd7^{\\x15\\x03l\\xec\\x97\\x8c\\xb4\\xa7?\\x9f1#$\\x93\\xe1\\x88\\xfd\\xad+\\xec\\xce\\x9e\\xa1\\xe8,3\\xdc\\xdf\\xa6*\\xf7\\xc9\\xb3\\x82\\x80\\x82\\xb2D\\x86\\x88\\xa3\\xc1\\x96\\x13\\xfch\\x8fP\\x0e\\x11\\xc31\\xc3IE\\xdd]ap\\xe6c\\xf4\\x8e]\\x84\\xfe\\x1c\\x1e\\x8b\\x08u\\xfa\\xde\\xc7&\\x15\\x02\\x1f\\x92\\xc6\\x92\\x06oK\\xbc7\\xa8^/\\xb5\\xf9U\\x8d\\xee\\xc5\\x94\\xca+\\x8a$\\xef\\x99&&\\xc5xt\\xc5|\\xff\\xaa\\xf5`\\xfb\\xda\\x122Dr\\xd5\\x9c~lzw4\\x91\\xda\\xd6\\xb8r\\x17!-\\xd1U$w\\x13\\xe4\\xb4o\\x93\\x87\\x16y\\x16)5!\\x94\\x84\\xa9\\xc2;\\xf8T&\\x0ff>\\x0er\\xd8b$Il\\x94J\\xafS\\xeb\\xd7\\x18Bh\\xe1\\xe4\\x040x\\x17\\xc9\\xb2N\\xeb\\xc1.\\xdb9\\xb7ef\\x08\\x08\\xd6#\\xe4\\x14\\x8c\\x98b\"\\xad\\x06\\xc9[\\xeaZ\\x10]}$>\\xf8?\\xc3\\xa1KH\\x909.H\\x82\\xf7\\x04\\x05*\\x8a$pm\\x15\\xda\\xd6\\xd9D.\\r\\x96Z4\\t\\x9dl\\x97\\xf9\\xa2\\xad\\xfa\\xd3\\xdc\\x05\\xef\\xda\\x98\\xac\\xa3\\xd4\\xef\\x0f\\xed\\xfdB\\xb4\\x84h\\x92w\\xa5\\xb7\\x94w\\xdfG\\x855\\xb2\\xae\\xa4\\x96\\x1d\\x82*\\xe86\\x19\\x93\\xfdw\\x18UW\\xe8w\\x1e\\xe7\\xc2c\\x9f\\xa3\\xd2\\x91j\\xef&?\\xff\\xfe\\x9fs\\xf1\\x81Y\\x96N.\\xa1\\xf2\\x0e\\xe7\\x96\\x9fc\\xe2v\\xb9\\xf3\\xce\\x1b\\x14J\\x10;\\xc9\\xc5Z\\x89\\x12\\xeb\\r\\xecH\\x9a\\xf2&\\xaf\\xfd\\xe4U\\xae\\xbey\\x87G\\x9e\\xfe\\x12\\xa7.}\\x92\\xfd\\xdd\\xd7i\\xc6\\xfb\\x14\\xab\\x8f\\x80\\xe8\\x12\\x9b\\rd\\xb5\\xcb(\\xdc@\\xa9QZatN\\xd0\\xc4\\x92\\xad\\xddk8_c2\\x99X&!\"t\\rMI\\xae\\xe7\\xb9\\xf8\\xe4\\x0b8] E\\xc1dc\\x9b\\xe1\\xda{\\\\\\x7f\\xef\\x1a\\xd7\\xdf\\xdf\\xa5\\xe8\\xc0\\xf6\\xe8&?y\\xf1\\xfb|\\xf6\\x13\\x9f\\xe5\\xc9\\xa7\\x9e\\xe6\\xe1\\'\\x1f\\';\\xfe-\\xfe\\xaf\\xff\\xf8\\x1f\\xa8\\xa2\\xc4\\x07\\x81\\xca2\\x8c\\xe9\\xd0\\x9b\\x9fg\\xe2+re\\xe8\\x0ef\\xf0\\xa3}\\xb2\\xbef\\xa8g\\x91\\xcd:f\\xbcIe\\xc7\\xd8\\xc9.\\xf5d\\xcch\\xaf\\xa2\\x9ax\\xbc\\x99e\\xe9\\x81G\\xc9\\x16\\xce1\\x89\\n\\xe5\\x1ar\\x19ZB\\xb1@\\x08\\x87\\x10I\\x1a#\\x1c\\xa8`Qh\\x84w\\x14\\x99A*EeK\\x08\\xf5\\xc1\\x8c}T\\xc9-\\xd3\\xb1C\\xb52\\xd1iu\\x8b\\x1f\\x01\\x13L\\xc1\\xb1#\\xbfJ1\\xcax\\xbc-\\xb1\\xd5\\x98\\xacg\\x90*#+f\\xf8\\xff\\x01\\x01\\xeb\\x18Tyiy\\xbe\\x00\\x00\\x00^tEXtcomment\\x00File source: http://commons.wikimedia.org/wiki/File:Kasparov_Magath_1985_Hamburg-2.png\\xfc\\x86\\xefr\\x00\\x00\\x00%tEXtdate:create\\x002011-03-19T07:05:10+00:00\\xc3*\\xb5\\xb9\\x00\\x00\\x00%tEXtdate:modify\\x002011-03-19T07:05:10+00:00\\xb2w\\r\\x05\\x00\\x00\\x00EtEXtsoftware\\x00ImageMagick 6.6.2-6 2010-10-23 Q8 http://www.imagemagick.org\\x07\\xe4\\x10\\xcf\\x00\\x00\\x00\\x18tEXtThumb::Document::Pages\\x001\\xa7\\xff\\xbb/\\x00\\x00\\x00\\x18tEXtThumb::Image::height\\x006005\\x83\\xbee\\x00\\x00\\x00\\x17tEXtThumb::Image::Width\\x00800\\xe3\\xb1\\xc0\\xe2\\x00\\x00\\x00\\x19tEXtThumb::Mimetype\\x00image/png?\\xb2VN\\x00\\x00\\x00\\x17tEXtThumb::MTime\\x001300518310\\xfb\\xdc%\\xd8\\x00\\x00\\x00\\x11tEXtThumb::Size\\x00975KB\\xf9c\\xddn\\x00\\x00\\x00XtEXtThumb::URI\\x00file:///mnt/upload6/wikipedia/commons/6/6f/Kasparov_Magath_1985_Hamburg-2.pngR\\xcb\\xc8\\xb4\\x00\\x00\\x00\\x00IEND\\xaeB`\\x82'"
      ]
     },
     "metadata": {},
     "execution_count": 49
    }
   ],
   "source": [
    "image_link.content"
   ]
  },
  {
   "cell_type": "code",
   "execution_count": 50,
   "metadata": {},
   "outputs": [],
   "source": [
    "f = open(\"computer_image.jpg\",\"wb\")"
   ]
  },
  {
   "cell_type": "code",
   "execution_count": 51,
   "metadata": {},
   "outputs": [
    {
     "output_type": "execute_result",
     "data": {
      "text/plain": [
       "85054"
      ]
     },
     "metadata": {},
     "execution_count": 51
    }
   ],
   "source": [
    "f.write(image_link.content)"
   ]
  },
  {
   "cell_type": "code",
   "execution_count": 52,
   "metadata": {},
   "outputs": [],
   "source": [
    "f.close()"
   ]
  },
  {
   "cell_type": "code",
   "execution_count": null,
   "metadata": {},
   "outputs": [],
   "source": []
  }
 ]
}